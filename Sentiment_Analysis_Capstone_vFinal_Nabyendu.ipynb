{
 "cells": [
  {
   "cell_type": "markdown",
   "metadata": {
    "id": "WrlyPWP_oSJU"
   },
   "source": [
    "# Sentiment Analysis of E-Commerce Product Reviews"
   ]
  },
  {
   "cell_type": "markdown",
   "metadata": {
    "id": "g1uEXf5yohT4"
   },
   "source": [
    "## **Import Packages**"
   ]
  },
  {
   "cell_type": "code",
   "execution_count": 1,
   "metadata": {
    "id": "-hZmsPbhY1F5"
   },
   "outputs": [],
   "source": [
    "# Import the numpy, pandas and other required packages\n",
    "import numpy as np\n",
    "import pandas as pd\n",
    "import matplotlib.pyplot as plt\n",
    "import seaborn as sns"
   ]
  },
  {
   "cell_type": "code",
   "execution_count": 2,
   "metadata": {
    "id": "F6AsLWPoY1F7"
   },
   "outputs": [],
   "source": [
    "import string\n",
    "from sklearn.svm import LinearSVC\n",
    "from wordcloud import WordCloud, STOPWORDS\n",
    "import missingno as msno\n",
    "from nltk.corpus import stopwords\n",
    "from nltk.stem import WordNetLemmatizer\n",
    "from spellchecker import SpellChecker\n",
    "import re\n",
    "import nltk"
   ]
  },
  {
   "cell_type": "code",
   "execution_count": 3,
   "metadata": {
    "id": "-eRqTUC8Y1F8"
   },
   "outputs": [],
   "source": [
    "# spell checker\n",
    "#!pip install pyspellchecker"
   ]
  },
  {
   "cell_type": "markdown",
   "metadata": {
    "id": "Sh-bjp7Zo87R"
   },
   "source": [
    "## **Load the Dataset**"
   ]
  },
  {
   "cell_type": "code",
   "execution_count": 4,
   "metadata": {
    "id": "H2c5ZAruaaHT"
   },
   "outputs": [],
   "source": [
    "#from google.colab import files\n",
    "#uploaded= files.upload()"
   ]
  },
  {
   "cell_type": "code",
   "execution_count": 5,
   "metadata": {
    "id": "aQqqYLU3o6Uj"
   },
   "outputs": [],
   "source": [
    "#df_online_product = pd.read_csv(\"/content/drive/My Drive/GrammarandProductReviews.csv\")\n",
    "#df = pd.read_csv(\"./Updated_GrammarandProductReviews_SpellCorrector.csv\")\n",
    "df = pd.read_csv(\"GrammarandProductReviews.csv\")"
   ]
  },
  {
   "cell_type": "code",
   "execution_count": 6,
   "metadata": {
    "colab": {
     "base_uri": "https://localhost:8080/",
     "height": 417
    },
    "id": "DwcIal-VjIBh",
    "outputId": "6d3a399d-69e9-4fe1-f799-2e365db41d15"
   },
   "outputs": [
    {
     "data": {
      "text/html": [
       "<div>\n",
       "<style scoped>\n",
       "    .dataframe tbody tr th:only-of-type {\n",
       "        vertical-align: middle;\n",
       "    }\n",
       "\n",
       "    .dataframe tbody tr th {\n",
       "        vertical-align: top;\n",
       "    }\n",
       "\n",
       "    .dataframe thead th {\n",
       "        text-align: right;\n",
       "    }\n",
       "</style>\n",
       "<table border=\"1\" class=\"dataframe\">\n",
       "  <thead>\n",
       "    <tr style=\"text-align: right;\">\n",
       "      <th></th>\n",
       "      <th>id</th>\n",
       "      <th>brand</th>\n",
       "      <th>categories</th>\n",
       "      <th>dateAdded</th>\n",
       "      <th>dateUpdated</th>\n",
       "      <th>ean</th>\n",
       "      <th>keys</th>\n",
       "      <th>manufacturer</th>\n",
       "      <th>manufacturerNumber</th>\n",
       "      <th>name</th>\n",
       "      <th>...</th>\n",
       "      <th>reviews.id</th>\n",
       "      <th>reviews.numHelpful</th>\n",
       "      <th>reviews.rating</th>\n",
       "      <th>reviews.sourceURLs</th>\n",
       "      <th>reviews.text</th>\n",
       "      <th>reviews.title</th>\n",
       "      <th>reviews.userCity</th>\n",
       "      <th>reviews.userProvince</th>\n",
       "      <th>reviews.username</th>\n",
       "      <th>upc</th>\n",
       "    </tr>\n",
       "  </thead>\n",
       "  <tbody>\n",
       "    <tr>\n",
       "      <td>0</td>\n",
       "      <td>AV13O1A8GV-KLJ3akUyj</td>\n",
       "      <td>Universal Music</td>\n",
       "      <td>Movies, Music &amp; Books,Music,R&amp;b,Movies &amp; TV,Mo...</td>\n",
       "      <td>2017-07-25T00:52:42Z</td>\n",
       "      <td>2018-02-05T08:36:58Z</td>\n",
       "      <td>6.02537E+11</td>\n",
       "      <td>602537205981,universalmusic/14331328,universal...</td>\n",
       "      <td>Universal Music Group / Cash Money</td>\n",
       "      <td>14331328</td>\n",
       "      <td>Pink Friday: Roman Reloaded Re-Up (w/dvd)</td>\n",
       "      <td>...</td>\n",
       "      <td>NaN</td>\n",
       "      <td>0.0</td>\n",
       "      <td>5</td>\n",
       "      <td>https://redsky.target.com/groot-domain-api/v1/...</td>\n",
       "      <td>i love this album. it's very good. more to the...</td>\n",
       "      <td>Just Awesome</td>\n",
       "      <td>Los Angeles</td>\n",
       "      <td>NaN</td>\n",
       "      <td>Joshua</td>\n",
       "      <td>6.02537E+11</td>\n",
       "    </tr>\n",
       "    <tr>\n",
       "      <td>1</td>\n",
       "      <td>AV14LG0R-jtxr-f38QfS</td>\n",
       "      <td>Lundberg</td>\n",
       "      <td>Food,Packaged Foods,Snacks,Crackers,Snacks, Co...</td>\n",
       "      <td>2017-07-25T05:16:03Z</td>\n",
       "      <td>2018-02-05T11:27:45Z</td>\n",
       "      <td>73416000391</td>\n",
       "      <td>lundbergorganiccinnamontoastricecakes/b000fvzw...</td>\n",
       "      <td>Lundberg</td>\n",
       "      <td>574764</td>\n",
       "      <td>Lundberg Organic Cinnamon Toast Rice Cakes</td>\n",
       "      <td>...</td>\n",
       "      <td>100209113.0</td>\n",
       "      <td>NaN</td>\n",
       "      <td>5</td>\n",
       "      <td>https://www.walmart.com/reviews/product/29775278</td>\n",
       "      <td>Good flavor. This review was collected as part...</td>\n",
       "      <td>Good</td>\n",
       "      <td>NaN</td>\n",
       "      <td>NaN</td>\n",
       "      <td>Dorothy W</td>\n",
       "      <td>73416000391</td>\n",
       "    </tr>\n",
       "    <tr>\n",
       "      <td>2</td>\n",
       "      <td>AV14LG0R-jtxr-f38QfS</td>\n",
       "      <td>Lundberg</td>\n",
       "      <td>Food,Packaged Foods,Snacks,Crackers,Snacks, Co...</td>\n",
       "      <td>2017-07-25T05:16:03Z</td>\n",
       "      <td>2018-02-05T11:27:45Z</td>\n",
       "      <td>73416000391</td>\n",
       "      <td>lundbergorganiccinnamontoastricecakes/b000fvzw...</td>\n",
       "      <td>Lundberg</td>\n",
       "      <td>574764</td>\n",
       "      <td>Lundberg Organic Cinnamon Toast Rice Cakes</td>\n",
       "      <td>...</td>\n",
       "      <td>100209113.0</td>\n",
       "      <td>NaN</td>\n",
       "      <td>5</td>\n",
       "      <td>https://www.walmart.com/reviews/product/29775278</td>\n",
       "      <td>Good flavor.</td>\n",
       "      <td>Good</td>\n",
       "      <td>NaN</td>\n",
       "      <td>NaN</td>\n",
       "      <td>Dorothy W</td>\n",
       "      <td>73416000391</td>\n",
       "    </tr>\n",
       "  </tbody>\n",
       "</table>\n",
       "<p>3 rows × 25 columns</p>\n",
       "</div>"
      ],
      "text/plain": [
       "                     id            brand  \\\n",
       "0  AV13O1A8GV-KLJ3akUyj  Universal Music   \n",
       "1  AV14LG0R-jtxr-f38QfS         Lundberg   \n",
       "2  AV14LG0R-jtxr-f38QfS         Lundberg   \n",
       "\n",
       "                                          categories             dateAdded  \\\n",
       "0  Movies, Music & Books,Music,R&b,Movies & TV,Mo...  2017-07-25T00:52:42Z   \n",
       "1  Food,Packaged Foods,Snacks,Crackers,Snacks, Co...  2017-07-25T05:16:03Z   \n",
       "2  Food,Packaged Foods,Snacks,Crackers,Snacks, Co...  2017-07-25T05:16:03Z   \n",
       "\n",
       "            dateUpdated          ean  \\\n",
       "0  2018-02-05T08:36:58Z  6.02537E+11   \n",
       "1  2018-02-05T11:27:45Z  73416000391   \n",
       "2  2018-02-05T11:27:45Z  73416000391   \n",
       "\n",
       "                                                keys  \\\n",
       "0  602537205981,universalmusic/14331328,universal...   \n",
       "1  lundbergorganiccinnamontoastricecakes/b000fvzw...   \n",
       "2  lundbergorganiccinnamontoastricecakes/b000fvzw...   \n",
       "\n",
       "                         manufacturer manufacturerNumber  \\\n",
       "0  Universal Music Group / Cash Money           14331328   \n",
       "1                            Lundberg             574764   \n",
       "2                            Lundberg             574764   \n",
       "\n",
       "                                         name  ...   reviews.id  \\\n",
       "0   Pink Friday: Roman Reloaded Re-Up (w/dvd)  ...          NaN   \n",
       "1  Lundberg Organic Cinnamon Toast Rice Cakes  ...  100209113.0   \n",
       "2  Lundberg Organic Cinnamon Toast Rice Cakes  ...  100209113.0   \n",
       "\n",
       "  reviews.numHelpful reviews.rating  \\\n",
       "0                0.0              5   \n",
       "1                NaN              5   \n",
       "2                NaN              5   \n",
       "\n",
       "                                  reviews.sourceURLs  \\\n",
       "0  https://redsky.target.com/groot-domain-api/v1/...   \n",
       "1   https://www.walmart.com/reviews/product/29775278   \n",
       "2   https://www.walmart.com/reviews/product/29775278   \n",
       "\n",
       "                                        reviews.text  reviews.title  \\\n",
       "0  i love this album. it's very good. more to the...   Just Awesome   \n",
       "1  Good flavor. This review was collected as part...           Good   \n",
       "2                                       Good flavor.           Good   \n",
       "\n",
       "   reviews.userCity  reviews.userProvince reviews.username          upc  \n",
       "0       Los Angeles                   NaN           Joshua  6.02537E+11  \n",
       "1               NaN                   NaN        Dorothy W  73416000391  \n",
       "2               NaN                   NaN        Dorothy W  73416000391  \n",
       "\n",
       "[3 rows x 25 columns]"
      ]
     },
     "execution_count": 6,
     "metadata": {},
     "output_type": "execute_result"
    }
   ],
   "source": [
    "df.head(3)"
   ]
  },
  {
   "cell_type": "markdown",
   "metadata": {
    "id": "EvOm_HpOpe0p"
   },
   "source": [
    "# **Text Pre-processing**"
   ]
  },
  {
   "cell_type": "code",
   "execution_count": 7,
   "metadata": {
    "colab": {
     "base_uri": "https://localhost:8080/"
    },
    "id": "38m8KtwepYhJ",
    "outputId": "35e37131-f5c9-4589-848c-9b94d973a9a3"
   },
   "outputs": [
    {
     "name": "stdout",
     "output_type": "stream",
     "text": [
      "Shape : (71044, 25)\n"
     ]
    }
   ],
   "source": [
    "print(\"Shape :\", df.shape)"
   ]
  },
  {
   "cell_type": "code",
   "execution_count": 8,
   "metadata": {
    "colab": {
     "base_uri": "https://localhost:8080/"
    },
    "id": "i5y1ywCdjdzG",
    "outputId": "9eba7e10-999c-4b8d-e420-f5c37107f2d7"
   },
   "outputs": [
    {
     "name": "stdout",
     "output_type": "stream",
     "text": [
      "Columns :\n",
      "Index(['id', 'brand', 'categories', 'dateAdded', 'dateUpdated', 'ean', 'keys',\n",
      "       'manufacturer', 'manufacturerNumber', 'name', 'reviews.date',\n",
      "       'reviews.dateAdded', 'reviews.dateSeen', 'reviews.didPurchase',\n",
      "       'reviews.doRecommend', 'reviews.id', 'reviews.numHelpful',\n",
      "       'reviews.rating', 'reviews.sourceURLs', 'reviews.text', 'reviews.title',\n",
      "       'reviews.userCity', 'reviews.userProvince', 'reviews.username', 'upc'],\n",
      "      dtype='object')\n"
     ]
    }
   ],
   "source": [
    "print(\"Columns :\")\n",
    "print(df.columns)"
   ]
  },
  {
   "cell_type": "markdown",
   "metadata": {
    "id": "f0W9sm7wDryK"
   },
   "source": [
    "### **Rename the Columns**"
   ]
  },
  {
   "cell_type": "code",
   "execution_count": 9,
   "metadata": {
    "id": "mMdqE9lorYk8"
   },
   "outputs": [],
   "source": [
    "# Rename the column names\n",
    "col_names = df.columns\n",
    "new_col_names = [i.replace(\".\",\"_\") for i in col_names]\n",
    "df.columns = new_col_names"
   ]
  },
  {
   "cell_type": "code",
   "execution_count": 10,
   "metadata": {
    "colab": {
     "base_uri": "https://localhost:8080/"
    },
    "id": "c-j-e_egsDU8",
    "outputId": "62c66c04-a6d8-4ddd-e4dd-1b68a68da59c"
   },
   "outputs": [
    {
     "data": {
      "text/plain": [
       "Index(['id', 'brand', 'categories', 'dateAdded', 'dateUpdated', 'ean', 'keys',\n",
       "       'manufacturer', 'manufacturerNumber', 'name', 'reviews_date',\n",
       "       'reviews_dateAdded', 'reviews_dateSeen', 'reviews_didPurchase',\n",
       "       'reviews_doRecommend', 'reviews_id', 'reviews_numHelpful',\n",
       "       'reviews_rating', 'reviews_sourceURLs', 'reviews_text', 'reviews_title',\n",
       "       'reviews_userCity', 'reviews_userProvince', 'reviews_username', 'upc'],\n",
       "      dtype='object')"
      ]
     },
     "execution_count": 10,
     "metadata": {},
     "output_type": "execute_result"
    }
   ],
   "source": [
    "df.columns"
   ]
  },
  {
   "cell_type": "code",
   "execution_count": 11,
   "metadata": {
    "colab": {
     "base_uri": "https://localhost:8080/"
    },
    "id": "Z8LuAhqAsPFQ",
    "outputId": "2e76675d-6a4d-4a6d-9e5f-ed3ddc35e290"
   },
   "outputs": [
    {
     "name": "stdout",
     "output_type": "stream",
     "text": [
      "Datatypes :\n",
      " id                       object\n",
      "brand                    object\n",
      "categories               object\n",
      "dateAdded                object\n",
      "dateUpdated              object\n",
      "ean                      object\n",
      "keys                     object\n",
      "manufacturer             object\n",
      "manufacturerNumber       object\n",
      "name                     object\n",
      "reviews_date             object\n",
      "reviews_dateAdded        object\n",
      "reviews_dateSeen         object\n",
      "reviews_didPurchase      object\n",
      "reviews_doRecommend      object\n",
      "reviews_id              float64\n",
      "reviews_numHelpful      float64\n",
      "reviews_rating            int64\n",
      "reviews_sourceURLs       object\n",
      "reviews_text             object\n",
      "reviews_title            object\n",
      "reviews_userCity         object\n",
      "reviews_userProvince     object\n",
      "reviews_username         object\n",
      "upc                      object\n",
      "dtype: object\n"
     ]
    }
   ],
   "source": [
    "print(\"Datatypes :\\n\",df.dtypes)"
   ]
  },
  {
   "cell_type": "code",
   "execution_count": 12,
   "metadata": {
    "colab": {
     "base_uri": "https://localhost:8080/"
    },
    "id": "vCUAQ-R4s7gg",
    "outputId": "6ca19edc-9a28-41e8-9556-a13d1d67564b"
   },
   "outputs": [
    {
     "name": "stdout",
     "output_type": "stream",
     "text": [
      "Info :\n",
      "<class 'pandas.core.frame.DataFrame'>\n",
      "RangeIndex: 71044 entries, 0 to 71043\n",
      "Data columns (total 25 columns):\n",
      "id                      71044 non-null object\n",
      "brand                   71044 non-null object\n",
      "categories              71044 non-null object\n",
      "dateAdded               71044 non-null object\n",
      "dateUpdated             71044 non-null object\n",
      "ean                     39065 non-null object\n",
      "keys                    71044 non-null object\n",
      "manufacturer            70903 non-null object\n",
      "manufacturerNumber      70841 non-null object\n",
      "name                    71044 non-null object\n",
      "reviews_date            70977 non-null object\n",
      "reviews_dateAdded       71044 non-null object\n",
      "reviews_dateSeen        71044 non-null object\n",
      "reviews_didPurchase     32158 non-null object\n",
      "reviews_doRecommend     60429 non-null object\n",
      "reviews_id              32158 non-null float64\n",
      "reviews_numHelpful      32508 non-null float64\n",
      "reviews_rating          71044 non-null int64\n",
      "reviews_sourceURLs      71044 non-null object\n",
      "reviews_text            71008 non-null object\n",
      "reviews_title           70568 non-null object\n",
      "reviews_userCity        5410 non-null object\n",
      "reviews_userProvince    449 non-null object\n",
      "reviews_username        70948 non-null object\n",
      "upc                     71042 non-null object\n",
      "dtypes: float64(2), int64(1), object(22)\n",
      "memory usage: 13.6+ MB\n",
      "None\n"
     ]
    }
   ],
   "source": [
    "print(\"Info :\")\n",
    "print(df.info())"
   ]
  },
  {
   "cell_type": "code",
   "execution_count": 13,
   "metadata": {
    "colab": {
     "base_uri": "https://localhost:8080/"
    },
    "id": "eMv4675KzLTj",
    "outputId": "0e90d779-66fa-4b54-e46a-f9cfc710e308"
   },
   "outputs": [
    {
     "name": "stdout",
     "output_type": "stream",
     "text": [
      "Missing Value Count :\n",
      "id                          0\n",
      "brand                       0\n",
      "categories                  0\n",
      "dateAdded                   0\n",
      "dateUpdated                 0\n",
      "ean                     31979\n",
      "keys                        0\n",
      "manufacturer              141\n",
      "manufacturerNumber        203\n",
      "name                        0\n",
      "reviews_date               67\n",
      "reviews_dateAdded           0\n",
      "reviews_dateSeen            0\n",
      "reviews_didPurchase     38886\n",
      "reviews_doRecommend     10615\n",
      "reviews_id              38886\n",
      "reviews_numHelpful      38536\n",
      "reviews_rating              0\n",
      "reviews_sourceURLs          0\n",
      "reviews_text               36\n",
      "reviews_title             476\n",
      "reviews_userCity        65634\n",
      "reviews_userProvince    70595\n",
      "reviews_username           96\n",
      "upc                         2\n",
      "dtype: int64\n"
     ]
    }
   ],
   "source": [
    "print(\"Missing Value Count :\")\n",
    "print(df.isnull().sum())"
   ]
  },
  {
   "cell_type": "markdown",
   "metadata": {
    "id": "kShnhr4AXI_n"
   },
   "source": [
    "### **Percentage of missing values per column**"
   ]
  },
  {
   "cell_type": "code",
   "execution_count": 14,
   "metadata": {
    "colab": {
     "base_uri": "https://localhost:8080/"
    },
    "id": "B1705sngY1GL",
    "outputId": "a1f6c234-1d08-42d4-a384-adf2afda8da2"
   },
   "outputs": [
    {
     "data": {
      "text/plain": [
       "reviews_userProvince    99.37\n",
       "reviews_userCity        92.39\n",
       "reviews_id              54.74\n",
       "reviews_didPurchase     54.74\n",
       "reviews_numHelpful      54.24\n",
       "ean                     45.01\n",
       "reviews_doRecommend     14.94\n",
       "reviews_title            0.67\n",
       "manufacturerNumber       0.29\n",
       "manufacturer             0.20\n",
       "reviews_username         0.14\n",
       "reviews_date             0.09\n",
       "reviews_text             0.05\n",
       "dtype: float64"
      ]
     },
     "execution_count": 14,
     "metadata": {},
     "output_type": "execute_result"
    }
   ],
   "source": [
    "null_percent = round(100*(df.isnull().sum()/len(df.index)), 2)  # Creating a series with columns and it's null %\n",
    "null_percent[null_percent > 0].sort_values(ascending=False)   # Printing only columns where null values are present"
   ]
  },
  {
   "cell_type": "code",
   "execution_count": 15,
   "metadata": {
    "id": "hpv5L0milPLT"
   },
   "outputs": [],
   "source": [
    "#### Visualization of Missing Values"
   ]
  },
  {
   "cell_type": "code",
   "execution_count": 16,
   "metadata": {
    "colab": {
     "base_uri": "https://localhost:8080/",
     "height": 634
    },
    "id": "kS_sAH_uY1GN",
    "outputId": "0993629c-956f-49ba-9bc7-bf7b2d6f1b24"
   },
   "outputs": [
    {
     "data": {
      "text/plain": [
       "<matplotlib.axes._subplots.AxesSubplot at 0x28521b2ea08>"
      ]
     },
     "execution_count": 16,
     "metadata": {},
     "output_type": "execute_result"
    },
    {
     "data": {
      "image/png": "[encoded data removed]",
      "text/plain": [
       "<Figure size 1800x720 with 2 Axes>"
      ]
     },
     "metadata": {
      "needs_background": "light"
     },
     "output_type": "display_data"
    }
   ],
   "source": [
    "msno.matrix(df)"
   ]
  },
  {
   "cell_type": "code",
   "execution_count": 17,
   "metadata": {
    "colab": {
     "base_uri": "https://localhost:8080/",
     "height": 693
    },
    "id": "NC8Qzrk3Y1GO",
    "outputId": "d6f09c9b-7b41-4a96-fc99-1d71ab217e9a"
   },
   "outputs": [
    {
     "data": {
      "text/plain": [
       "<matplotlib.axes._subplots.AxesSubplot at 0x28522945e08>"
      ]
     },
     "execution_count": 17,
     "metadata": {},
     "output_type": "execute_result"
    },
    {
     "data": {
      "image/png": "[encoded data removed]",
      "text/plain": [
       "<Figure size 1728x720 with 3 Axes>"
      ]
     },
     "metadata": {
      "needs_background": "light"
     },
     "output_type": "display_data"
    }
   ],
   "source": [
    "msno.bar(df)"
   ]
  },
  {
   "cell_type": "code",
   "execution_count": 18,
   "metadata": {
    "colab": {
     "base_uri": "https://localhost:8080/",
     "height": 857
    },
    "id": "GYmQmnFhY1GP",
    "outputId": "b945d07a-dece-48aa-8b29-96fd15b72d73"
   },
   "outputs": [
    {
     "data": {
      "text/plain": [
       "<matplotlib.axes._subplots.AxesSubplot at 0x28521b9e188>"
      ]
     },
     "execution_count": 18,
     "metadata": {},
     "output_type": "execute_result"
    },
    {
     "data": {
      "image/png": "[encoded data removed]",
      "text/plain": [
       "<Figure size 1440x864 with 2 Axes>"
      ]
     },
     "metadata": {
      "needs_background": "light"
     },
     "output_type": "display_data"
    }
   ],
   "source": [
    "msno.heatmap(df)"
   ]
  },
  {
   "cell_type": "code",
   "execution_count": 19,
   "metadata": {
    "id": "2ztofDW7Y1GQ"
   },
   "outputs": [],
   "source": [
    "df_copy = df.copy()"
   ]
  },
  {
   "cell_type": "code",
   "execution_count": 20,
   "metadata": {
    "colab": {
     "base_uri": "https://localhost:8080/"
    },
    "id": "XP-n5U2tY1GR",
    "outputId": "661ae9fc-dae7-48ea-fc86-9d03a44cdf42"
   },
   "outputs": [
    {
     "name": "stdout",
     "output_type": "stream",
     "text": [
      "Shape : (71044, 25)\n"
     ]
    }
   ],
   "source": [
    "print(\"Shape :\", df.shape)"
   ]
  },
  {
   "cell_type": "code",
   "execution_count": 21,
   "metadata": {
    "id": "nbO3-LmnY1GS"
   },
   "outputs": [],
   "source": [
    "null_percent=round(100*(df.isnull().sum()/len(df.index)), 2) # Missing % of each column\n",
    "null_percent=null_percent[null_percent.values>60] # filtering only columns with missing % more than 60%\n",
    "null_percent = list(null_percent.index) # storing index (column names) with missing% more than 80 in a list.\n",
    "df.drop(labels=null_percent,axis=1,inplace=True)  # Dropping all those columns"
   ]
  },
  {
   "cell_type": "code",
   "execution_count": 22,
   "metadata": {
    "colab": {
     "base_uri": "https://localhost:8080/"
    },
    "id": "XkMYY4u1peTK",
    "outputId": "0d1de71b-073b-4710-cc5b-0837fb678602"
   },
   "outputs": [
    {
     "name": "stdout",
     "output_type": "stream",
     "text": [
      "Shape : (71044, 23)\n"
     ]
    }
   ],
   "source": [
    "# Shape of Dataset\n",
    "print(\"Shape :\", df.shape)"
   ]
  },
  {
   "cell_type": "code",
   "execution_count": 23,
   "metadata": {
    "id": "mF-DTH6vY1GU"
   },
   "outputs": [],
   "source": [
    "# removing rows where a particular column has high missing values because the column cannot be removed because of its importance\n",
    "df = df[~pd.isnull(df['reviews_date'])]\n",
    "df = df[~pd.isnull(df['reviews_text'])]"
   ]
  },
  {
   "cell_type": "code",
   "execution_count": 24,
   "metadata": {
    "colab": {
     "base_uri": "https://localhost:8080/"
    },
    "id": "0YWkNCWQqa5v",
    "outputId": "687fcaf8-247a-436e-c039-3fd613c64bd2"
   },
   "outputs": [
    {
     "name": "stdout",
     "output_type": "stream",
     "text": [
      "Shape : (70941, 23)\n"
     ]
    }
   ],
   "source": [
    "# Shape of Dataset\n",
    "print(\"Shape :\", df.shape)"
   ]
  },
  {
   "cell_type": "code",
   "execution_count": 25,
   "metadata": {
    "colab": {
     "base_uri": "https://localhost:8080/"
    },
    "id": "bRDLTQNuY1GW",
    "outputId": "95310729-68b3-4072-8c5a-abe76e8453ab"
   },
   "outputs": [
    {
     "data": {
      "text/plain": [
       "0    i love this album. it's very good. more to the...\n",
       "1    Good flavor. This review was collected as part...\n",
       "2                                         Good flavor.\n",
       "3    I read through the reviews on here before look...\n",
       "4    My husband bought this gel for us. The gel cau...\n",
       "5    My boyfriend and I bought this to spice things...\n",
       "6    Bought this earlier today and was excited to c...\n",
       "7    I bought this product for my husband and I to ...\n",
       "8    My husband and I bought this for some extra fu...\n",
       "9    Got as a surprise for my husband there is noth...\n",
       "Name: reviews_text, dtype: object"
      ]
     },
     "execution_count": 25,
     "metadata": {},
     "output_type": "execute_result"
    }
   ],
   "source": [
    "df[\"reviews_text\"].head(10)"
   ]
  },
  {
   "cell_type": "code",
   "execution_count": 26,
   "metadata": {
    "id": "KvfQFw3uY1GX"
   },
   "outputs": [],
   "source": [
    "pd.set_option('display.max_colwidth', 200)\n",
    "#pd.set_option('display.max_colwidth', None)"
   ]
  },
  {
   "cell_type": "code",
   "execution_count": 27,
   "metadata": {
    "colab": {
     "base_uri": "https://localhost:8080/",
     "height": 461
    },
    "id": "FYNxFy3mY1GX",
    "outputId": "cd016e21-8819-4291-b639-8b5e467e4f01"
   },
   "outputs": [
    {
     "data": {
      "text/html": [
       "<div>\n",
       "<style scoped>\n",
       "    .dataframe tbody tr th:only-of-type {\n",
       "        vertical-align: middle;\n",
       "    }\n",
       "\n",
       "    .dataframe tbody tr th {\n",
       "        vertical-align: top;\n",
       "    }\n",
       "\n",
       "    .dataframe thead th {\n",
       "        text-align: right;\n",
       "    }\n",
       "</style>\n",
       "<table border=\"1\" class=\"dataframe\">\n",
       "  <thead>\n",
       "    <tr style=\"text-align: right;\">\n",
       "      <th></th>\n",
       "      <th>reviews_text</th>\n",
       "      <th>reviews_title</th>\n",
       "    </tr>\n",
       "  </thead>\n",
       "  <tbody>\n",
       "    <tr>\n",
       "      <td>0</td>\n",
       "      <td>i love this album. it's very good. more to the hip hop side than her current pop sound.. SO HYPE! i listen to this everyday at the gym! i give it 5star rating all the way. her metaphors are just c...</td>\n",
       "      <td>Just Awesome</td>\n",
       "    </tr>\n",
       "    <tr>\n",
       "      <td>1</td>\n",
       "      <td>Good flavor. This review was collected as part of a promotion.</td>\n",
       "      <td>Good</td>\n",
       "    </tr>\n",
       "    <tr>\n",
       "      <td>2</td>\n",
       "      <td>Good flavor.</td>\n",
       "      <td>Good</td>\n",
       "    </tr>\n",
       "    <tr>\n",
       "      <td>3</td>\n",
       "      <td>I read through the reviews on here before looking in to buying one of the couples lubricants, and was ultimately disappointed that it didn't even live up to the reviews I had read. For starters, n...</td>\n",
       "      <td>Disappointed</td>\n",
       "    </tr>\n",
       "    <tr>\n",
       "      <td>4</td>\n",
       "      <td>My husband bought this gel for us. The gel caused irritation and it felt like it was burning my skin. I wouldn't recommend this gel.</td>\n",
       "      <td>Irritation</td>\n",
       "    </tr>\n",
       "    <tr>\n",
       "      <td>5</td>\n",
       "      <td>My boyfriend and I bought this to spice things up in the bedroom and we were both highly disappointed in this product. We bought this one because we absolutely love the ky yours and mine and we th...</td>\n",
       "      <td>Not worth it</td>\n",
       "    </tr>\n",
       "    <tr>\n",
       "      <td>6</td>\n",
       "      <td>Bought this earlier today and was excited to check it out. Based on the product description I was expecting something but it was just like the regular KY. We are fans of the his and hers so we jus...</td>\n",
       "      <td>Disappointing</td>\n",
       "    </tr>\n",
       "    <tr>\n",
       "      <td>7</td>\n",
       "      <td>I bought this product for my husband and I to try and we were not impressed at all. There was no tingling or warming. It left us both very sticky. I have used KY products in the past (loved KY his...</td>\n",
       "      <td>Not happy at all</td>\n",
       "    </tr>\n",
       "    <tr>\n",
       "      <td>8</td>\n",
       "      <td>My husband and I bought this for some extra fun. We werevboth extremely disappointed. Especially for the price! Do not waste your money on this product. We felt nothing but a sticky mess from it.</td>\n",
       "      <td>Very disappointing</td>\n",
       "    </tr>\n",
       "    <tr>\n",
       "      <td>9</td>\n",
       "      <td>Got as a surprise for my husband there is nothing special about it just a lube save the money and get plain KY if you just need a lube wish I could return it for a refund</td>\n",
       "      <td>Don't buy</td>\n",
       "    </tr>\n",
       "  </tbody>\n",
       "</table>\n",
       "</div>"
      ],
      "text/plain": [
       "                                                                                                                                                                                              reviews_text  \\\n",
       "0  i love this album. it's very good. more to the hip hop side than her current pop sound.. SO HYPE! i listen to this everyday at the gym! i give it 5star rating all the way. her metaphors are just c...   \n",
       "1                                                                                                                                           Good flavor. This review was collected as part of a promotion.   \n",
       "2                                                                                                                                                                                             Good flavor.   \n",
       "3  I read through the reviews on here before looking in to buying one of the couples lubricants, and was ultimately disappointed that it didn't even live up to the reviews I had read. For starters, n...   \n",
       "4                                                                     My husband bought this gel for us. The gel caused irritation and it felt like it was burning my skin. I wouldn't recommend this gel.   \n",
       "5  My boyfriend and I bought this to spice things up in the bedroom and we were both highly disappointed in this product. We bought this one because we absolutely love the ky yours and mine and we th...   \n",
       "6  Bought this earlier today and was excited to check it out. Based on the product description I was expecting something but it was just like the regular KY. We are fans of the his and hers so we jus...   \n",
       "7  I bought this product for my husband and I to try and we were not impressed at all. There was no tingling or warming. It left us both very sticky. I have used KY products in the past (loved KY his...   \n",
       "8      My husband and I bought this for some extra fun. We werevboth extremely disappointed. Especially for the price! Do not waste your money on this product. We felt nothing but a sticky mess from it.   \n",
       "9                               Got as a surprise for my husband there is nothing special about it just a lube save the money and get plain KY if you just need a lube wish I could return it for a refund   \n",
       "\n",
       "        reviews_title  \n",
       "0        Just Awesome  \n",
       "1                Good  \n",
       "2                Good  \n",
       "3        Disappointed  \n",
       "4          Irritation  \n",
       "5        Not worth it  \n",
       "6       Disappointing  \n",
       "7    Not happy at all  \n",
       "8  Very disappointing  \n",
       "9           Don't buy  "
      ]
     },
     "execution_count": 27,
     "metadata": {},
     "output_type": "execute_result"
    }
   ],
   "source": [
    "df[['reviews_text','reviews_title']].head(10)"
   ]
  },
  {
   "cell_type": "markdown",
   "metadata": {
    "id": "Mrkjj2286f2_"
   },
   "source": [
    "### **Combine Review Text and Title into one**"
   ]
  },
  {
   "cell_type": "code",
   "execution_count": 28,
   "metadata": {
    "id": "uekrlrLVY1GZ"
   },
   "outputs": [],
   "source": [
    "df['reviews_text'] = df['reviews_title'].fillna('') + '! ' + df['reviews_text'].fillna('')"
   ]
  },
  {
   "cell_type": "code",
   "execution_count": 29,
   "metadata": {
    "colab": {
     "base_uri": "https://localhost:8080/"
    },
    "id": "Qnu6YSAdY1GZ",
    "outputId": "782b5e5c-cd5a-4f3f-bf89-03a62a596f90"
   },
   "outputs": [
    {
     "data": {
      "text/plain": [
       "0    Just Awesome! i love this album. it's very good. more to the hip hop side than her current pop sound.. SO HYPE! i listen to this everyday at the gym! i give it 5star rating all the way. her metaph...\n",
       "1                                                                                                                                       Good! Good flavor. This review was collected as part of a promotion.\n",
       "2                                                                                                                                                                                         Good! Good flavor.\n",
       "3    Disappointed! I read through the reviews on here before looking in to buying one of the couples lubricants, and was ultimately disappointed that it didn't even live up to the reviews I had read. F...\n",
       "4                                                           Irritation! My husband bought this gel for us. The gel caused irritation and it felt like it was burning my skin. I wouldn't recommend this gel.\n",
       "5    Not worth it! My boyfriend and I bought this to spice things up in the bedroom and we were both highly disappointed in this product. We bought this one because we absolutely love the ky yours and ...\n",
       "6    Disappointing! Bought this earlier today and was excited to check it out. Based on the product description I was expecting something but it was just like the regular KY. We are fans of the his and...\n",
       "7    Not happy at all! I bought this product for my husband and I to try and we were not impressed at all. There was no tingling or warming. It left us both very sticky. I have used KY products in the ...\n",
       "8    Very disappointing! My husband and I bought this for some extra fun. We werevboth extremely disappointed. Especially for the price! Do not waste your money on this product. We felt nothing but a s...\n",
       "9                      Don't buy! Got as a surprise for my husband there is nothing special about it just a lube save the money and get plain KY if you just need a lube wish I could return it for a refund\n",
       "Name: reviews_text, dtype: object"
      ]
     },
     "execution_count": 29,
     "metadata": {},
     "output_type": "execute_result"
    }
   ],
   "source": [
    "df[\"reviews_text\"].head(10)"
   ]
  },
  {
   "cell_type": "code",
   "execution_count": 30,
   "metadata": {
    "colab": {
     "base_uri": "https://localhost:8080/",
     "height": 282
    },
    "id": "ktcnWbo3Y1Gb",
    "outputId": "01cabfac-1cd8-4eda-b1e0-618e969bd9f7"
   },
   "outputs": [
    {
     "data": {
      "text/plain": [
       "<matplotlib.axes._subplots.AxesSubplot at 0x28521c00948>"
      ]
     },
     "execution_count": 30,
     "metadata": {},
     "output_type": "execute_result"
    },
    {
     "data": {
      "image/png": "[encoded data removed]",
      "text/plain": [
       "<Figure size 432x288 with 1 Axes>"
      ]
     },
     "metadata": {
      "needs_background": "light"
     },
     "output_type": "display_data"
    }
   ],
   "source": [
    "data = df['reviews_rating'].value_counts()\n",
    "sns.barplot(x=data.index, y=data.values)"
   ]
  },
  {
   "cell_type": "code",
   "execution_count": 31,
   "metadata": {
    "id": "G0gnVSjCY1Gc"
   },
   "outputs": [],
   "source": [
    "# Dropping column reviews_title\n",
    "df = df.drop('reviews_title', axis=1)"
   ]
  },
  {
   "cell_type": "markdown",
   "metadata": {
    "id": "FQ-DxyHx_7BV"
   },
   "source": [
    "## **Noise Removal**"
   ]
  },
  {
   "cell_type": "markdown",
   "metadata": {
    "id": "IeMx73W-4TwH"
   },
   "source": [
    "### **Lowercasing**"
   ]
  },
  {
   "cell_type": "code",
   "execution_count": 32,
   "metadata": {
    "colab": {
     "base_uri": "https://localhost:8080/"
    },
    "id": "CSCTg2H7Y1Gg",
    "outputId": "c427b4fd-f8e0-4b42-dde9-d93beb2ce2ef"
   },
   "outputs": [
    {
     "data": {
      "text/plain": [
       "5    not worth it! my boyfriend and i bought this to spice things up in the bedroom and we were both highly disappointed in this product. we bought this one because we absolutely love the ky yours and ...\n",
       "6    disappointing! bought this earlier today and was excited to check it out. based on the product description i was expecting something but it was just like the regular ky. we are fans of the his and...\n",
       "7    not happy at all! i bought this product for my husband and i to try and we were not impressed at all. there was no tingling or warming. it left us both very sticky. i have used ky products in the ...\n",
       "8    very disappointing! my husband and i bought this for some extra fun. we werevboth extremely disappointed. especially for the price! do not waste your money on this product. we felt nothing but a s...\n",
       "9                      don't buy! got as a surprise for my husband there is nothing special about it just a lube save the money and get plain ky if you just need a lube wish i could return it for a refund\n",
       "Name: reviews_text, dtype: object"
      ]
     },
     "execution_count": 32,
     "metadata": {},
     "output_type": "execute_result"
    }
   ],
   "source": [
    "df[\"reviews_text\"] = df[\"reviews_text\"].str.lower()\n",
    "df[\"reviews_text\"][5:10]"
   ]
  },
  {
   "cell_type": "markdown",
   "metadata": {
    "id": "eHIrINSVY1Gh"
   },
   "source": [
    "### **Remove URL's**"
   ]
  },
  {
   "cell_type": "code",
   "execution_count": 33,
   "metadata": {
    "id": "cOjpX6cQY1Gi"
   },
   "outputs": [],
   "source": [
    "def remove_urls(text):\n",
    "    url_pattern = re.compile(r'https?://\\S+|www\\.\\S+')\n",
    "    return url_pattern.sub(r'', text)"
   ]
  },
  {
   "cell_type": "code",
   "execution_count": 34,
   "metadata": {
    "colab": {
     "base_uri": "https://localhost:8080/",
     "height": 69
    },
    "id": "ntRtNgw_Y1Gj",
    "outputId": "e876ff02-0fe7-46f6-d4db-fa3d22eedda8"
   },
   "outputs": [
    {
     "data": {
      "text/plain": [
       "'u1l2d1! start working when mixed with water, which allows you to enjoy whiter laundry and cleaner surfaces without the spills. do not mix with bleach or other household products. always read and follow precautions and usage directions before using cleaning products read more at https://www.clorox.com/products/clorox-control-bleach-packs/va5foomhiiibyabv.99'"
      ]
     },
     "execution_count": 34,
     "metadata": {},
     "output_type": "execute_result"
    }
   ],
   "source": [
    "df[\"reviews_text\"][7249]"
   ]
  },
  {
   "cell_type": "code",
   "execution_count": 35,
   "metadata": {
    "colab": {
     "base_uri": "https://localhost:8080/",
     "height": 35
    },
    "id": "6BRWcAeUY1Gj",
    "outputId": "dc44d7e7-ac4e-4f0f-bf73-4cac6a3871ce"
   },
   "outputs": [
    {
     "data": {
      "text/plain": [
       "'Study dashboard home page is at  please visit '"
      ]
     },
     "execution_count": 35,
     "metadata": {},
     "output_type": "execute_result"
    }
   ],
   "source": [
    "text = \"Study dashboard home page is at https://study.com/v/item/524/dashboard/ please visit \"\n",
    "remove_urls(text)"
   ]
  },
  {
   "cell_type": "code",
   "execution_count": 36,
   "metadata": {
    "id": "Nfaq5rPLY1Gk"
   },
   "outputs": [],
   "source": [
    "df[\"reviews_text\"] = df[\"reviews_text\"].apply(lambda text: remove_urls(text))"
   ]
  },
  {
   "cell_type": "code",
   "execution_count": 37,
   "metadata": {
    "colab": {
     "base_uri": "https://localhost:8080/",
     "height": 52
    },
    "id": "SaFQdk4lY1Gk",
    "outputId": "27c47f2f-9aff-41a6-b2e4-c88b29538f11"
   },
   "outputs": [
    {
     "data": {
      "text/plain": [
       "'u1l2d1! start working when mixed with water, which allows you to enjoy whiter laundry and cleaner surfaces without the spills. do not mix with bleach or other household products. always read and follow precautions and usage directions before using cleaning products read more at '"
      ]
     },
     "execution_count": 37,
     "metadata": {},
     "output_type": "execute_result"
    }
   ],
   "source": [
    "df[\"reviews_text\"][7249]"
   ]
  },
  {
   "cell_type": "markdown",
   "metadata": {
    "id": "Ma4e03wr-azG"
   },
   "source": [
    "### **Remove Punctuation**"
   ]
  },
  {
   "cell_type": "code",
   "execution_count": 38,
   "metadata": {
    "id": "TV0JQeyOY1Gl"
   },
   "outputs": [],
   "source": [
    "PUNCT_TO_REMOVE = string.punctuation\n",
    "def remove_punctuation(text):\n",
    "    \"\"\"custom function to remove the punctuation\"\"\"\n",
    "    return text.translate(str.maketrans('', '', PUNCT_TO_REMOVE))\n",
    "\n",
    "df[\"reviews_text\"] = df[\"reviews_text\"].apply(lambda text: remove_punctuation(text))"
   ]
  },
  {
   "cell_type": "code",
   "execution_count": 39,
   "metadata": {
    "colab": {
     "base_uri": "https://localhost:8080/",
     "height": 35
    },
    "id": "Fzfajjk8Y1Gm",
    "outputId": "cec394dd-9725-4393-988a-107acd9136f2"
   },
   "outputs": [
    {
     "data": {
      "text/plain": [
       "'!\"#$%&\\'()*+,-./:;<=>?@[\\\\]^_`{|}~'"
      ]
     },
     "execution_count": 39,
     "metadata": {},
     "output_type": "execute_result"
    }
   ],
   "source": [
    "PUNCT_TO_REMOVE"
   ]
  },
  {
   "cell_type": "code",
   "execution_count": 40,
   "metadata": {
    "colab": {
     "base_uri": "https://localhost:8080/"
    },
    "id": "EYZAewguY1Gn",
    "outputId": "781b4ec4-1513-45aa-aa4e-0b69ebadaf33"
   },
   "outputs": [
    {
     "data": {
      "text/plain": [
       "0    just awesome i love this album its very good more to the hip hop side than her current pop sound so hype i listen to this everyday at the gym i give it 5star rating all the way her metaphors are j...\n",
       "1                                                                                                                                          good good flavor this review was collected as part of a promotion\n",
       "2                                                                                                                                                                                           good good flavor\n",
       "3    disappointed i read through the reviews on here before looking in to buying one of the couples lubricants and was ultimately disappointed that it didnt even live up to the reviews i had read for s...\n",
       "4                                                                irritation my husband bought this gel for us the gel caused irritation and it felt like it was burning my skin i wouldnt recommend this gel\n",
       "5    not worth it my boyfriend and i bought this to spice things up in the bedroom and we were both highly disappointed in this product we bought this one because we absolutely love the ky yours and mi...\n",
       "6    disappointing bought this earlier today and was excited to check it out based on the product description i was expecting something but it was just like the regular ky we are fans of the his and he...\n",
       "7    not happy at all i bought this product for my husband and i to try and we were not impressed at all there was no tingling or warming it left us both very sticky i have used ky products in the past...\n",
       "8    very disappointing my husband and i bought this for some extra fun we werevboth extremely disappointed especially for the price do not waste your money on this product we felt nothing but a sticky...\n",
       "9                        dont buy got as a surprise for my husband there is nothing special about it just a lube save the money and get plain ky if you just need a lube wish i could return it for a refund\n",
       "Name: reviews_text, dtype: object"
      ]
     },
     "execution_count": 40,
     "metadata": {},
     "output_type": "execute_result"
    }
   ],
   "source": [
    "df[\"reviews_text\"].head(10)"
   ]
  },
  {
   "cell_type": "code",
   "execution_count": 41,
   "metadata": {
    "colab": {
     "base_uri": "https://localhost:8080/"
    },
    "id": "dGv4gDPUY1Gn",
    "outputId": "52cad23d-3027-4535-9a2d-15fbf75d7d86"
   },
   "outputs": [
    {
     "name": "stdout",
     "output_type": "stream",
     "text": [
      "Shape : (70941, 22)\n"
     ]
    }
   ],
   "source": [
    "print(\"Shape :\", df.shape)"
   ]
  },
  {
   "cell_type": "markdown",
   "metadata": {
    "id": "WH5fBez4_ce2"
   },
   "source": [
    "### **Remove Stopwords**"
   ]
  },
  {
   "cell_type": "code",
   "execution_count": 42,
   "metadata": {
    "id": "pIC2zgrVCJ1F"
   },
   "outputs": [],
   "source": [
    "##import nltk\n",
    "##nltk.download('stopwords')"
   ]
  },
  {
   "cell_type": "code",
   "execution_count": 43,
   "metadata": {
    "id": "tGmXavIcY1Go"
   },
   "outputs": [],
   "source": [
    "STOPWORDS = set(stopwords.words('english'))\n",
    "def remove_stopwords(text):\n",
    "    \"\"\"custom function to remove the stopwords\"\"\"\n",
    "    return \" \".join([word for word in str(text).split() if word not in STOPWORDS])\n",
    "\n",
    "df[\"reviews_text\"] = df[\"reviews_text\"].apply(lambda text: remove_stopwords(text))"
   ]
  },
  {
   "cell_type": "code",
   "execution_count": 44,
   "metadata": {
    "colab": {
     "base_uri": "https://localhost:8080/"
    },
    "id": "ru-eQ-t2Y1Gp",
    "outputId": "4dec316e-e4ce-483e-ed66-04952ef5b495"
   },
   "outputs": [
    {
     "data": {
      "text/plain": [
       "5    worth boyfriend bought spice things bedroom highly disappointed product bought one absolutely love ky mine thought would similar affect absolutely nothing buy\n",
       "6             disappointing bought earlier today excited check based product description expecting something like regular ky fans expected left little disappointed\n",
       "7                                       happy bought product husband try impressed tingling warming left us sticky used ky products past loved ky one disappointing\n",
       "8                             disappointing husband bought extra fun werevboth extremely disappointed especially price waste money product felt nothing sticky mess\n",
       "9                                                     dont buy got surprise husband nothing special lube save money get plain ky need lube wish could return refund\n",
       "Name: reviews_text, dtype: object"
      ]
     },
     "execution_count": 44,
     "metadata": {},
     "output_type": "execute_result"
    }
   ],
   "source": [
    "df[\"reviews_text\"][5:10]"
   ]
  },
  {
   "cell_type": "markdown",
   "metadata": {
    "id": "a1qbAx4bCI1g"
   },
   "source": [
    "### **Lemmatization**"
   ]
  },
  {
   "cell_type": "code",
   "execution_count": 45,
   "metadata": {
    "id": "udUVQH9aY1Gq"
   },
   "outputs": [],
   "source": [
    "from nltk.stem import WordNetLemmatizer\n",
    "\n",
    "lemmatizer = WordNetLemmatizer()\n",
    "def lemmatize_words(text):\n",
    "    return \" \".join([lemmatizer.lemmatize(word) for word in text.split()])"
   ]
  },
  {
   "cell_type": "code",
   "execution_count": 46,
   "metadata": {
    "id": "5FcXOejrCmzY"
   },
   "outputs": [],
   "source": [
    "#import nltk\n",
    "#nltk.download('wordnet')"
   ]
  },
  {
   "cell_type": "code",
   "execution_count": 47,
   "metadata": {
    "id": "-Bb6tD6yY1Gr"
   },
   "outputs": [],
   "source": [
    "df[\"reviews_text\"] = df[\"reviews_text\"].apply(lambda text: lemmatize_words(text))"
   ]
  },
  {
   "cell_type": "code",
   "execution_count": 48,
   "metadata": {
    "colab": {
     "base_uri": "https://localhost:8080/"
    },
    "id": "LJ5E2H1cY1Gr",
    "outputId": "583628cf-60ad-425e-eb33-894560df50d0"
   },
   "outputs": [
    {
     "data": {
      "text/plain": [
       "5    worth boyfriend bought spice thing bedroom highly disappointed product bought one absolutely love ky mine thought would similar affect absolutely nothing buy\n",
       "6             disappointing bought earlier today excited check based product description expecting something like regular ky fan expected left little disappointed\n",
       "7                                        happy bought product husband try impressed tingling warming left u sticky used ky product past loved ky one disappointing\n",
       "8                            disappointing husband bought extra fun werevboth extremely disappointed especially price waste money product felt nothing sticky mess\n",
       "9                                                    dont buy got surprise husband nothing special lube save money get plain ky need lube wish could return refund\n",
       "Name: reviews_text, dtype: object"
      ]
     },
     "execution_count": 48,
     "metadata": {},
     "output_type": "execute_result"
    }
   ],
   "source": [
    "df[\"reviews_text\"][5:10]"
   ]
  },
  {
   "cell_type": "markdown",
   "metadata": {
    "id": "DBNLqs1ue2SX"
   },
   "source": [
    "### **Spelling Correction**"
   ]
  },
  {
   "cell_type": "code",
   "execution_count": 49,
   "metadata": {
    "id": "rw8POvShD2oq"
   },
   "outputs": [
    {
     "ename": "KeyboardInterrupt",
     "evalue": "",
     "output_type": "error",
     "traceback": [
      "\u001b[1;31m---------------------------------------------------------------------------\u001b[0m",
      "\u001b[1;31mKeyboardInterrupt\u001b[0m                         Traceback (most recent call last)",
      "\u001b[1;32m<ipython-input-49-db796c3851e4>\u001b[0m in \u001b[0;36m<module>\u001b[1;34m\u001b[0m\n\u001b[0;32m      1\u001b[0m \u001b[0mspell\u001b[0m \u001b[1;33m=\u001b[0m \u001b[0mSpellChecker\u001b[0m\u001b[1;33m(\u001b[0m\u001b[1;33m)\u001b[0m\u001b[1;33m\u001b[0m\u001b[1;33m\u001b[0m\u001b[0m\n\u001b[1;32m----> 2\u001b[1;33m \u001b[0mdf\u001b[0m\u001b[1;33m[\u001b[0m\u001b[1;34m\"reviews_text\"\u001b[0m\u001b[1;33m]\u001b[0m \u001b[1;33m=\u001b[0m \u001b[0mdf\u001b[0m\u001b[1;33m[\u001b[0m\u001b[1;34m\"reviews_text\"\u001b[0m\u001b[1;33m]\u001b[0m\u001b[1;33m.\u001b[0m\u001b[0mapply\u001b[0m\u001b[1;33m(\u001b[0m\u001b[1;32mlambda\u001b[0m \u001b[0mtext\u001b[0m\u001b[1;33m:\u001b[0m\u001b[1;34m' '\u001b[0m\u001b[1;33m.\u001b[0m\u001b[0mjoin\u001b[0m\u001b[1;33m(\u001b[0m\u001b[0mspell\u001b[0m\u001b[1;33m.\u001b[0m\u001b[0mcorrection\u001b[0m\u001b[1;33m(\u001b[0m\u001b[0mword\u001b[0m\u001b[1;33m)\u001b[0m \u001b[1;32mfor\u001b[0m \u001b[0mword\u001b[0m \u001b[1;32min\u001b[0m \u001b[0mnltk\u001b[0m\u001b[1;33m.\u001b[0m\u001b[0mword_tokenize\u001b[0m\u001b[1;33m(\u001b[0m\u001b[0mtext\u001b[0m\u001b[1;33m)\u001b[0m\u001b[1;33m)\u001b[0m\u001b[1;33m)\u001b[0m\u001b[1;33m\u001b[0m\u001b[1;33m\u001b[0m\u001b[0m\n\u001b[0m",
      "\u001b[1;32m~\\AppData\\Local\\Continuum\\anaconda3\\lib\\site-packages\\pandas\\core\\series.py\u001b[0m in \u001b[0;36mapply\u001b[1;34m(self, func, convert_dtype, args, **kwds)\u001b[0m\n\u001b[0;32m   4040\u001b[0m             \u001b[1;32melse\u001b[0m\u001b[1;33m:\u001b[0m\u001b[1;33m\u001b[0m\u001b[1;33m\u001b[0m\u001b[0m\n\u001b[0;32m   4041\u001b[0m                 \u001b[0mvalues\u001b[0m \u001b[1;33m=\u001b[0m \u001b[0mself\u001b[0m\u001b[1;33m.\u001b[0m\u001b[0mastype\u001b[0m\u001b[1;33m(\u001b[0m\u001b[0mobject\u001b[0m\u001b[1;33m)\u001b[0m\u001b[1;33m.\u001b[0m\u001b[0mvalues\u001b[0m\u001b[1;33m\u001b[0m\u001b[1;33m\u001b[0m\u001b[0m\n\u001b[1;32m-> 4042\u001b[1;33m                 \u001b[0mmapped\u001b[0m \u001b[1;33m=\u001b[0m \u001b[0mlib\u001b[0m\u001b[1;33m.\u001b[0m\u001b[0mmap_infer\u001b[0m\u001b[1;33m(\u001b[0m\u001b[0mvalues\u001b[0m\u001b[1;33m,\u001b[0m \u001b[0mf\u001b[0m\u001b[1;33m,\u001b[0m \u001b[0mconvert\u001b[0m\u001b[1;33m=\u001b[0m\u001b[0mconvert_dtype\u001b[0m\u001b[1;33m)\u001b[0m\u001b[1;33m\u001b[0m\u001b[1;33m\u001b[0m\u001b[0m\n\u001b[0m\u001b[0;32m   4043\u001b[0m \u001b[1;33m\u001b[0m\u001b[0m\n\u001b[0;32m   4044\u001b[0m         \u001b[1;32mif\u001b[0m \u001b[0mlen\u001b[0m\u001b[1;33m(\u001b[0m\u001b[0mmapped\u001b[0m\u001b[1;33m)\u001b[0m \u001b[1;32mand\u001b[0m \u001b[0misinstance\u001b[0m\u001b[1;33m(\u001b[0m\u001b[0mmapped\u001b[0m\u001b[1;33m[\u001b[0m\u001b[1;36m0\u001b[0m\u001b[1;33m]\u001b[0m\u001b[1;33m,\u001b[0m \u001b[0mSeries\u001b[0m\u001b[1;33m)\u001b[0m\u001b[1;33m:\u001b[0m\u001b[1;33m\u001b[0m\u001b[1;33m\u001b[0m\u001b[0m\n",
      "\u001b[1;32mpandas\\_libs\\lib.pyx\u001b[0m in \u001b[0;36mpandas._libs.lib.map_infer\u001b[1;34m()\u001b[0m\n",
      "\u001b[1;32m<ipython-input-49-db796c3851e4>\u001b[0m in \u001b[0;36m<lambda>\u001b[1;34m(text)\u001b[0m\n\u001b[0;32m      1\u001b[0m \u001b[0mspell\u001b[0m \u001b[1;33m=\u001b[0m \u001b[0mSpellChecker\u001b[0m\u001b[1;33m(\u001b[0m\u001b[1;33m)\u001b[0m\u001b[1;33m\u001b[0m\u001b[1;33m\u001b[0m\u001b[0m\n\u001b[1;32m----> 2\u001b[1;33m \u001b[0mdf\u001b[0m\u001b[1;33m[\u001b[0m\u001b[1;34m\"reviews_text\"\u001b[0m\u001b[1;33m]\u001b[0m \u001b[1;33m=\u001b[0m \u001b[0mdf\u001b[0m\u001b[1;33m[\u001b[0m\u001b[1;34m\"reviews_text\"\u001b[0m\u001b[1;33m]\u001b[0m\u001b[1;33m.\u001b[0m\u001b[0mapply\u001b[0m\u001b[1;33m(\u001b[0m\u001b[1;32mlambda\u001b[0m \u001b[0mtext\u001b[0m\u001b[1;33m:\u001b[0m\u001b[1;34m' '\u001b[0m\u001b[1;33m.\u001b[0m\u001b[0mjoin\u001b[0m\u001b[1;33m(\u001b[0m\u001b[0mspell\u001b[0m\u001b[1;33m.\u001b[0m\u001b[0mcorrection\u001b[0m\u001b[1;33m(\u001b[0m\u001b[0mword\u001b[0m\u001b[1;33m)\u001b[0m \u001b[1;32mfor\u001b[0m \u001b[0mword\u001b[0m \u001b[1;32min\u001b[0m \u001b[0mnltk\u001b[0m\u001b[1;33m.\u001b[0m\u001b[0mword_tokenize\u001b[0m\u001b[1;33m(\u001b[0m\u001b[0mtext\u001b[0m\u001b[1;33m)\u001b[0m\u001b[1;33m)\u001b[0m\u001b[1;33m)\u001b[0m\u001b[1;33m\u001b[0m\u001b[1;33m\u001b[0m\u001b[0m\n\u001b[0m",
      "\u001b[1;32m<ipython-input-49-db796c3851e4>\u001b[0m in \u001b[0;36m<genexpr>\u001b[1;34m(.0)\u001b[0m\n\u001b[0;32m      1\u001b[0m \u001b[0mspell\u001b[0m \u001b[1;33m=\u001b[0m \u001b[0mSpellChecker\u001b[0m\u001b[1;33m(\u001b[0m\u001b[1;33m)\u001b[0m\u001b[1;33m\u001b[0m\u001b[1;33m\u001b[0m\u001b[0m\n\u001b[1;32m----> 2\u001b[1;33m \u001b[0mdf\u001b[0m\u001b[1;33m[\u001b[0m\u001b[1;34m\"reviews_text\"\u001b[0m\u001b[1;33m]\u001b[0m \u001b[1;33m=\u001b[0m \u001b[0mdf\u001b[0m\u001b[1;33m[\u001b[0m\u001b[1;34m\"reviews_text\"\u001b[0m\u001b[1;33m]\u001b[0m\u001b[1;33m.\u001b[0m\u001b[0mapply\u001b[0m\u001b[1;33m(\u001b[0m\u001b[1;32mlambda\u001b[0m \u001b[0mtext\u001b[0m\u001b[1;33m:\u001b[0m\u001b[1;34m' '\u001b[0m\u001b[1;33m.\u001b[0m\u001b[0mjoin\u001b[0m\u001b[1;33m(\u001b[0m\u001b[0mspell\u001b[0m\u001b[1;33m.\u001b[0m\u001b[0mcorrection\u001b[0m\u001b[1;33m(\u001b[0m\u001b[0mword\u001b[0m\u001b[1;33m)\u001b[0m \u001b[1;32mfor\u001b[0m \u001b[0mword\u001b[0m \u001b[1;32min\u001b[0m \u001b[0mnltk\u001b[0m\u001b[1;33m.\u001b[0m\u001b[0mword_tokenize\u001b[0m\u001b[1;33m(\u001b[0m\u001b[0mtext\u001b[0m\u001b[1;33m)\u001b[0m\u001b[1;33m)\u001b[0m\u001b[1;33m)\u001b[0m\u001b[1;33m\u001b[0m\u001b[1;33m\u001b[0m\u001b[0m\n\u001b[0m",
      "\u001b[1;32m~\\AppData\\Local\\Continuum\\anaconda3\\lib\\site-packages\\spellchecker\\spellchecker.py\u001b[0m in \u001b[0;36mcorrection\u001b[1;34m(self, word)\u001b[0m\n\u001b[0;32m    146\u001b[0m                 str: The most likely candidate \"\"\"\n\u001b[0;32m    147\u001b[0m         \u001b[0mword\u001b[0m \u001b[1;33m=\u001b[0m \u001b[0mENSURE_UNICODE\u001b[0m\u001b[1;33m(\u001b[0m\u001b[0mword\u001b[0m\u001b[1;33m)\u001b[0m\u001b[1;33m\u001b[0m\u001b[1;33m\u001b[0m\u001b[0m\n\u001b[1;32m--> 148\u001b[1;33m         \u001b[0mcandidates\u001b[0m \u001b[1;33m=\u001b[0m \u001b[0mlist\u001b[0m\u001b[1;33m(\u001b[0m\u001b[0mself\u001b[0m\u001b[1;33m.\u001b[0m\u001b[0mcandidates\u001b[0m\u001b[1;33m(\u001b[0m\u001b[0mword\u001b[0m\u001b[1;33m)\u001b[0m\u001b[1;33m)\u001b[0m\u001b[1;33m\u001b[0m\u001b[1;33m\u001b[0m\u001b[0m\n\u001b[0m\u001b[0;32m    149\u001b[0m         \u001b[1;32mreturn\u001b[0m \u001b[0mmax\u001b[0m\u001b[1;33m(\u001b[0m\u001b[0msorted\u001b[0m\u001b[1;33m(\u001b[0m\u001b[0mcandidates\u001b[0m\u001b[1;33m)\u001b[0m\u001b[1;33m,\u001b[0m \u001b[0mkey\u001b[0m\u001b[1;33m=\u001b[0m\u001b[0mself\u001b[0m\u001b[1;33m.\u001b[0m\u001b[0mword_probability\u001b[0m\u001b[1;33m)\u001b[0m\u001b[1;33m\u001b[0m\u001b[1;33m\u001b[0m\u001b[0m\n\u001b[0;32m    150\u001b[0m \u001b[1;33m\u001b[0m\u001b[0m\n",
      "\u001b[1;32m~\\AppData\\Local\\Continuum\\anaconda3\\lib\\site-packages\\spellchecker\\spellchecker.py\u001b[0m in \u001b[0;36mcandidates\u001b[1;34m(self, word)\u001b[0m\n\u001b[0;32m    171\u001b[0m         \u001b[1;31m# if still not found, use the edit distance 1 to calc edit distance 2\u001b[0m\u001b[1;33m\u001b[0m\u001b[1;33m\u001b[0m\u001b[1;33m\u001b[0m\u001b[0m\n\u001b[0;32m    172\u001b[0m         \u001b[1;32mif\u001b[0m \u001b[0mself\u001b[0m\u001b[1;33m.\u001b[0m\u001b[0m_distance\u001b[0m \u001b[1;33m==\u001b[0m \u001b[1;36m2\u001b[0m\u001b[1;33m:\u001b[0m\u001b[1;33m\u001b[0m\u001b[1;33m\u001b[0m\u001b[0m\n\u001b[1;32m--> 173\u001b[1;33m             \u001b[0mtmp\u001b[0m \u001b[1;33m=\u001b[0m \u001b[0mself\u001b[0m\u001b[1;33m.\u001b[0m\u001b[0mknown\u001b[0m\u001b[1;33m(\u001b[0m\u001b[1;33m[\u001b[0m\u001b[0mx\u001b[0m \u001b[1;32mfor\u001b[0m \u001b[0mx\u001b[0m \u001b[1;32min\u001b[0m \u001b[0mself\u001b[0m\u001b[1;33m.\u001b[0m\u001b[0m__edit_distance_alt\u001b[0m\u001b[1;33m(\u001b[0m\u001b[0mres\u001b[0m\u001b[1;33m)\u001b[0m\u001b[1;33m]\u001b[0m\u001b[1;33m)\u001b[0m\u001b[1;33m\u001b[0m\u001b[1;33m\u001b[0m\u001b[0m\n\u001b[0m\u001b[0;32m    174\u001b[0m             \u001b[1;32mif\u001b[0m \u001b[0mtmp\u001b[0m\u001b[1;33m:\u001b[0m\u001b[1;33m\u001b[0m\u001b[1;33m\u001b[0m\u001b[0m\n\u001b[0;32m    175\u001b[0m                 \u001b[1;32mreturn\u001b[0m \u001b[0mtmp\u001b[0m\u001b[1;33m\u001b[0m\u001b[1;33m\u001b[0m\u001b[0m\n",
      "\u001b[1;32m~\\AppData\\Local\\Continuum\\anaconda3\\lib\\site-packages\\spellchecker\\spellchecker.py\u001b[0m in \u001b[0;36m__edit_distance_alt\u001b[1;34m(self, words)\u001b[0m\n\u001b[0;32m    260\u001b[0m             \u001b[1;32mif\u001b[0m \u001b[0mself\u001b[0m\u001b[1;33m.\u001b[0m\u001b[0m_check_if_should_check\u001b[0m\u001b[1;33m(\u001b[0m\u001b[0mw\u001b[0m\u001b[1;33m)\u001b[0m\u001b[1;33m\u001b[0m\u001b[1;33m\u001b[0m\u001b[0m\n\u001b[0;32m    261\u001b[0m         ]\n\u001b[1;32m--> 262\u001b[1;33m         \u001b[1;32mreturn\u001b[0m \u001b[1;33m[\u001b[0m\u001b[0me2\u001b[0m \u001b[1;32mfor\u001b[0m \u001b[0me1\u001b[0m \u001b[1;32min\u001b[0m \u001b[0mtmp\u001b[0m \u001b[1;32mfor\u001b[0m \u001b[0me2\u001b[0m \u001b[1;32min\u001b[0m \u001b[0mself\u001b[0m\u001b[1;33m.\u001b[0m\u001b[0mknown\u001b[0m\u001b[1;33m(\u001b[0m\u001b[0mself\u001b[0m\u001b[1;33m.\u001b[0m\u001b[0medit_distance_1\u001b[0m\u001b[1;33m(\u001b[0m\u001b[0me1\u001b[0m\u001b[1;33m)\u001b[0m\u001b[1;33m)\u001b[0m\u001b[1;33m]\u001b[0m\u001b[1;33m\u001b[0m\u001b[1;33m\u001b[0m\u001b[0m\n\u001b[0m\u001b[0;32m    263\u001b[0m \u001b[1;33m\u001b[0m\u001b[0m\n\u001b[0;32m    264\u001b[0m     \u001b[1;32mdef\u001b[0m \u001b[0m_check_if_should_check\u001b[0m\u001b[1;33m(\u001b[0m\u001b[0mself\u001b[0m\u001b[1;33m,\u001b[0m \u001b[0mword\u001b[0m\u001b[1;33m)\u001b[0m\u001b[1;33m:\u001b[0m\u001b[1;33m\u001b[0m\u001b[1;33m\u001b[0m\u001b[0m\n",
      "\u001b[1;32m~\\AppData\\Local\\Continuum\\anaconda3\\lib\\site-packages\\spellchecker\\spellchecker.py\u001b[0m in \u001b[0;36m<listcomp>\u001b[1;34m(.0)\u001b[0m\n\u001b[0;32m    260\u001b[0m             \u001b[1;32mif\u001b[0m \u001b[0mself\u001b[0m\u001b[1;33m.\u001b[0m\u001b[0m_check_if_should_check\u001b[0m\u001b[1;33m(\u001b[0m\u001b[0mw\u001b[0m\u001b[1;33m)\u001b[0m\u001b[1;33m\u001b[0m\u001b[1;33m\u001b[0m\u001b[0m\n\u001b[0;32m    261\u001b[0m         ]\n\u001b[1;32m--> 262\u001b[1;33m         \u001b[1;32mreturn\u001b[0m \u001b[1;33m[\u001b[0m\u001b[0me2\u001b[0m \u001b[1;32mfor\u001b[0m \u001b[0me1\u001b[0m \u001b[1;32min\u001b[0m \u001b[0mtmp\u001b[0m \u001b[1;32mfor\u001b[0m \u001b[0me2\u001b[0m \u001b[1;32min\u001b[0m \u001b[0mself\u001b[0m\u001b[1;33m.\u001b[0m\u001b[0mknown\u001b[0m\u001b[1;33m(\u001b[0m\u001b[0mself\u001b[0m\u001b[1;33m.\u001b[0m\u001b[0medit_distance_1\u001b[0m\u001b[1;33m(\u001b[0m\u001b[0me1\u001b[0m\u001b[1;33m)\u001b[0m\u001b[1;33m)\u001b[0m\u001b[1;33m]\u001b[0m\u001b[1;33m\u001b[0m\u001b[1;33m\u001b[0m\u001b[0m\n\u001b[0m\u001b[0;32m    263\u001b[0m \u001b[1;33m\u001b[0m\u001b[0m\n\u001b[0;32m    264\u001b[0m     \u001b[1;32mdef\u001b[0m \u001b[0m_check_if_should_check\u001b[0m\u001b[1;33m(\u001b[0m\u001b[0mself\u001b[0m\u001b[1;33m,\u001b[0m \u001b[0mword\u001b[0m\u001b[1;33m)\u001b[0m\u001b[1;33m:\u001b[0m\u001b[1;33m\u001b[0m\u001b[1;33m\u001b[0m\u001b[0m\n",
      "\u001b[1;32m~\\AppData\\Local\\Continuum\\anaconda3\\lib\\site-packages\\spellchecker\\spellchecker.py\u001b[0m in \u001b[0;36mknown\u001b[1;34m(self, words)\u001b[0m\n\u001b[0;32m    185\u001b[0m                 \u001b[0mset\u001b[0m\u001b[1;33m:\u001b[0m \u001b[0mThe\u001b[0m \u001b[0mset\u001b[0m \u001b[0mof\u001b[0m \u001b[0mthose\u001b[0m \u001b[0mwords\u001b[0m \u001b[1;32mfrom\u001b[0m \u001b[0mthe\u001b[0m \u001b[0minput\u001b[0m \u001b[0mthat\u001b[0m \u001b[0mare\u001b[0m \u001b[1;32min\u001b[0m \u001b[0mthe\u001b[0m\u001b[0;31m \u001b[0m\u001b[0;31m\\\u001b[0m\u001b[1;33m\u001b[0m\u001b[1;33m\u001b[0m\u001b[0m\n\u001b[0;32m    186\u001b[0m                 corpus \"\"\"\n\u001b[1;32m--> 187\u001b[1;33m         \u001b[0mwords\u001b[0m \u001b[1;33m=\u001b[0m \u001b[1;33m[\u001b[0m\u001b[0mENSURE_UNICODE\u001b[0m\u001b[1;33m(\u001b[0m\u001b[0mw\u001b[0m\u001b[1;33m)\u001b[0m \u001b[1;32mfor\u001b[0m \u001b[0mw\u001b[0m \u001b[1;32min\u001b[0m \u001b[0mwords\u001b[0m\u001b[1;33m]\u001b[0m\u001b[1;33m\u001b[0m\u001b[1;33m\u001b[0m\u001b[0m\n\u001b[0m\u001b[0;32m    188\u001b[0m         \u001b[0mtmp\u001b[0m \u001b[1;33m=\u001b[0m \u001b[1;33m[\u001b[0m\u001b[0mw\u001b[0m \u001b[1;32mif\u001b[0m \u001b[0mself\u001b[0m\u001b[1;33m.\u001b[0m\u001b[0m_case_sensitive\u001b[0m \u001b[1;32melse\u001b[0m \u001b[0mw\u001b[0m\u001b[1;33m.\u001b[0m\u001b[0mlower\u001b[0m\u001b[1;33m(\u001b[0m\u001b[1;33m)\u001b[0m \u001b[1;32mfor\u001b[0m \u001b[0mw\u001b[0m \u001b[1;32min\u001b[0m \u001b[0mwords\u001b[0m\u001b[1;33m]\u001b[0m\u001b[1;33m\u001b[0m\u001b[1;33m\u001b[0m\u001b[0m\n\u001b[0;32m    189\u001b[0m         return set(\n",
      "\u001b[1;32m~\\AppData\\Local\\Continuum\\anaconda3\\lib\\site-packages\\spellchecker\\spellchecker.py\u001b[0m in \u001b[0;36m<listcomp>\u001b[1;34m(.0)\u001b[0m\n\u001b[0;32m    185\u001b[0m                 \u001b[0mset\u001b[0m\u001b[1;33m:\u001b[0m \u001b[0mThe\u001b[0m \u001b[0mset\u001b[0m \u001b[0mof\u001b[0m \u001b[0mthose\u001b[0m \u001b[0mwords\u001b[0m \u001b[1;32mfrom\u001b[0m \u001b[0mthe\u001b[0m \u001b[0minput\u001b[0m \u001b[0mthat\u001b[0m \u001b[0mare\u001b[0m \u001b[1;32min\u001b[0m \u001b[0mthe\u001b[0m\u001b[0;31m \u001b[0m\u001b[0;31m\\\u001b[0m\u001b[1;33m\u001b[0m\u001b[1;33m\u001b[0m\u001b[0m\n\u001b[0;32m    186\u001b[0m                 corpus \"\"\"\n\u001b[1;32m--> 187\u001b[1;33m         \u001b[0mwords\u001b[0m \u001b[1;33m=\u001b[0m \u001b[1;33m[\u001b[0m\u001b[0mENSURE_UNICODE\u001b[0m\u001b[1;33m(\u001b[0m\u001b[0mw\u001b[0m\u001b[1;33m)\u001b[0m \u001b[1;32mfor\u001b[0m \u001b[0mw\u001b[0m \u001b[1;32min\u001b[0m \u001b[0mwords\u001b[0m\u001b[1;33m]\u001b[0m\u001b[1;33m\u001b[0m\u001b[1;33m\u001b[0m\u001b[0m\n\u001b[0m\u001b[0;32m    188\u001b[0m         \u001b[0mtmp\u001b[0m \u001b[1;33m=\u001b[0m \u001b[1;33m[\u001b[0m\u001b[0mw\u001b[0m \u001b[1;32mif\u001b[0m \u001b[0mself\u001b[0m\u001b[1;33m.\u001b[0m\u001b[0m_case_sensitive\u001b[0m \u001b[1;32melse\u001b[0m \u001b[0mw\u001b[0m\u001b[1;33m.\u001b[0m\u001b[0mlower\u001b[0m\u001b[1;33m(\u001b[0m\u001b[1;33m)\u001b[0m \u001b[1;32mfor\u001b[0m \u001b[0mw\u001b[0m \u001b[1;32min\u001b[0m \u001b[0mwords\u001b[0m\u001b[1;33m]\u001b[0m\u001b[1;33m\u001b[0m\u001b[1;33m\u001b[0m\u001b[0m\n\u001b[0;32m    189\u001b[0m         return set(\n",
      "\u001b[1;32m~\\AppData\\Local\\Continuum\\anaconda3\\lib\\site-packages\\spellchecker\\utils.py\u001b[0m in \u001b[0;36mENSURE_UNICODE\u001b[1;34m(s, encoding)\u001b[0m\n\u001b[0;32m     21\u001b[0m     \u001b[0mOPEN\u001b[0m \u001b[1;33m=\u001b[0m \u001b[0mopen\u001b[0m\u001b[1;33m\u001b[0m\u001b[1;33m\u001b[0m\u001b[0m\n\u001b[0;32m     22\u001b[0m \u001b[1;33m\u001b[0m\u001b[0m\n\u001b[1;32m---> 23\u001b[1;33m     \u001b[1;32mdef\u001b[0m \u001b[0mENSURE_UNICODE\u001b[0m\u001b[1;33m(\u001b[0m\u001b[0ms\u001b[0m\u001b[1;33m,\u001b[0m \u001b[0mencoding\u001b[0m\u001b[1;33m=\u001b[0m\u001b[1;34m'utf-8'\u001b[0m\u001b[1;33m)\u001b[0m\u001b[1;33m:\u001b[0m\u001b[1;33m\u001b[0m\u001b[1;33m\u001b[0m\u001b[0m\n\u001b[0m\u001b[0;32m     24\u001b[0m         \u001b[1;32mif\u001b[0m \u001b[0misinstance\u001b[0m\u001b[1;33m(\u001b[0m\u001b[0ms\u001b[0m\u001b[1;33m,\u001b[0m \u001b[0mbytes\u001b[0m\u001b[1;33m)\u001b[0m\u001b[1;33m:\u001b[0m\u001b[1;33m\u001b[0m\u001b[1;33m\u001b[0m\u001b[0m\n\u001b[0;32m     25\u001b[0m             \u001b[1;32mreturn\u001b[0m \u001b[0ms\u001b[0m\u001b[1;33m.\u001b[0m\u001b[0mdecode\u001b[0m\u001b[1;33m(\u001b[0m\u001b[0mencoding\u001b[0m\u001b[1;33m)\u001b[0m\u001b[1;33m\u001b[0m\u001b[1;33m\u001b[0m\u001b[0m\n",
      "\u001b[1;31mKeyboardInterrupt\u001b[0m: "
     ]
    }
   ],
   "source": [
    "spell = SpellChecker()\n",
    "df[\"reviews_text\"] = df[\"reviews_text\"].apply(lambda text:' '.join(spell.correction(word) for word in nltk.word_tokenize(text)))"
   ]
  },
  {
   "cell_type": "code",
   "execution_count": null,
   "metadata": {
    "colab": {
     "base_uri": "https://localhost:8080/"
    },
    "id": "jX4gkFcQH0T0",
    "outputId": "c5881e0f-4162-4912-9ab7-a9a88acc54ad"
   },
   "outputs": [],
   "source": [
    "##import nltk\n",
    "##nltk.download('punkt')"
   ]
  },
  {
   "cell_type": "code",
   "execution_count": null,
   "metadata": {
    "colab": {
     "base_uri": "https://localhost:8080/"
    },
    "id": "Mmi6y2vdFTs2",
    "outputId": "a22db791-cec5-40ed-9d80-aeaca2beea2b"
   },
   "outputs": [],
   "source": [
    "df[\"reviews_text\"][5:10]"
   ]
  },
  {
   "cell_type": "markdown",
   "metadata": {
    "id": "sxItAbX-P33i"
   },
   "source": [
    "### **HTML Tags Removal**"
   ]
  },
  {
   "cell_type": "code",
   "execution_count": null,
   "metadata": {
    "id": "DXjqiQTDY1Gv"
   },
   "outputs": [],
   "source": [
    "def scrub_words(text):\n",
    "    # remove html markup\n",
    "    text=re.sub(\"(<.*?>)\",\"\",text)\n",
    "    \n",
    "    # remove non ASCII and digits\n",
    "    text=re.sub(\"(\\\\W|\\\\d)\",\" \",text)\n",
    "    \n",
    "    # remove whitespace\n",
    "    text=text.strip()\n",
    "    return text"
   ]
  },
  {
   "cell_type": "code",
   "execution_count": null,
   "metadata": {
    "colab": {
     "base_uri": "https://localhost:8080/"
    },
    "id": "uFiI-ZkyY1Gw",
    "outputId": "dce06b22-5010-4664-f93e-b703f92c8a86"
   },
   "outputs": [],
   "source": [
    "df[\"reviews_text\"][5:10]"
   ]
  },
  {
   "cell_type": "code",
   "execution_count": null,
   "metadata": {
    "id": "c9lULqc4Y1Gw"
   },
   "outputs": [],
   "source": [
    "df[\"reviews_text\"] = df[\"reviews_text\"].apply(lambda text: scrub_words(text))"
   ]
  },
  {
   "cell_type": "code",
   "execution_count": null,
   "metadata": {
    "colab": {
     "base_uri": "https://localhost:8080/"
    },
    "id": "zhJjXfHaY1Gx",
    "outputId": "c0da0741-f5e7-4c8e-b353-8b3cd20acbed"
   },
   "outputs": [],
   "source": [
    "df[\"reviews_text\"][5:10]"
   ]
  },
  {
   "cell_type": "markdown",
   "metadata": {},
   "source": [
    "### **Numbers Removal**"
   ]
  },
  {
   "cell_type": "code",
   "execution_count": null,
   "metadata": {},
   "outputs": [],
   "source": [
    "df['reviews_text'] = df['reviews_text'].apply(lambda x : re.sub(r'[^a-z]',' ',x))"
   ]
  },
  {
   "cell_type": "code",
   "execution_count": null,
   "metadata": {},
   "outputs": [],
   "source": [
    "df[\"reviews_text\"][5:10]"
   ]
  },
  {
   "cell_type": "markdown",
   "metadata": {
    "id": "jvWqkjDyY1G4"
   },
   "source": [
    "### Now let's have a look what do the length of the reviews tell about the ratings\n"
   ]
  },
  {
   "cell_type": "code",
   "execution_count": null,
   "metadata": {
    "id": "lHiWdCBuY1G5"
   },
   "outputs": [],
   "source": [
    "df['reviews_text'].apply(len)"
   ]
  },
  {
   "cell_type": "markdown",
   "metadata": {
    "id": "XD6wiuxPUMpW"
   },
   "source": [
    "### **Top 30 Common Words**"
   ]
  },
  {
   "cell_type": "code",
   "execution_count": null,
   "metadata": {
    "id": "NAPa3qlEIkQa"
   },
   "outputs": [],
   "source": [
    "from nltk.probability import FreqDist"
   ]
  },
  {
   "cell_type": "code",
   "execution_count": null,
   "metadata": {
    "id": "yBXEAIy7Y1G7"
   },
   "outputs": [],
   "source": [
    "# Function to plot most frequent terms\n",
    "def freq_words(x, terms=30):\n",
    "    all_words = ' '.join([text for text in x])\n",
    "    all_words = all_words.split()\n",
    "    \n",
    "    fdist = FreqDist(all_words)\n",
    "    words_df=pd.DataFrame({'word':list(fdist.keys()), 'count':list(fdist.values())})\n",
    "    \n",
    "    # Selecting 30 least frequent words\n",
    "    d = words_df.nlargest(columns='count', n=terms)\n",
    "    plt.figure(figsize=(20,10))\n",
    "    ax = sns.barplot(data=d, x=\"count\", y=\"word\")\n",
    "    ax.set(ylabel=\"Word\")\n",
    "    plt.show()"
   ]
  },
  {
   "cell_type": "code",
   "execution_count": null,
   "metadata": {
    "colab": {
     "base_uri": "https://localhost:8080/",
     "height": 606
    },
    "id": "l9u5r0Q0Y1G8",
    "outputId": "91f51a19-1f4a-4cbb-efca-71e580aed766"
   },
   "outputs": [],
   "source": [
    "freq_words(df['reviews_text'])"
   ]
  },
  {
   "cell_type": "markdown",
   "metadata": {
    "id": "U2zEpu3_b3Mu"
   },
   "source": [
    "### **Top 30 Rare Words**"
   ]
  },
  {
   "cell_type": "code",
   "execution_count": null,
   "metadata": {
    "id": "ER04wO1CY1G9"
   },
   "outputs": [],
   "source": [
    "# Function to plot least frequent terms\n",
    "def freq_words(x, terms=30):\n",
    "    all_words = ' '.join([text for text in x])\n",
    "    all_words = all_words.split()\n",
    "    \n",
    "    fdist = FreqDist(all_words)\n",
    "    words_df=pd.DataFrame({'word':list(fdist.keys()), 'count':list(fdist.values())})\n",
    "    \n",
    "    # Selecting top 30 least frequent words\n",
    "    d = words_df.nsmallest(columns='count', n=terms)\n",
    "    plt.figure(figsize=(20,10))\n",
    "    ax = sns.barplot(data=d, x=\"count\", y=\"word\")\n",
    "    ax.set(ylabel=\"Word\")\n",
    "    plt.show()"
   ]
  },
  {
   "cell_type": "code",
   "execution_count": null,
   "metadata": {
    "colab": {
     "base_uri": "https://localhost:8080/",
     "height": 606
    },
    "id": "LxfnMe6fY1G-",
    "outputId": "c479f029-4f71-45b9-a1be-49d37f08bacf"
   },
   "outputs": [],
   "source": [
    "freq_words(df['reviews_text'])"
   ]
  },
  {
   "cell_type": "markdown",
   "metadata": {
    "id": "g5ZM7VX2wsnO"
   },
   "source": [
    "### **N-grams using TextBlob**"
   ]
  },
  {
   "cell_type": "code",
   "execution_count": null,
   "metadata": {
    "id": "wBRdEVDEY1HA"
   },
   "outputs": [],
   "source": [
    "from textblob import TextBlob"
   ]
  },
  {
   "cell_type": "code",
   "execution_count": null,
   "metadata": {
    "id": "6xvGNq6VY1HB"
   },
   "outputs": [],
   "source": [
    "# Function to generate n-grams from sentences.\n",
    "def extract_ngrams(data, num):\n",
    "    n_grams = TextBlob(data).ngrams(num)\n",
    "    return [ ' '.join(grams) for grams in n_grams]"
   ]
  },
  {
   "cell_type": "code",
   "execution_count": null,
   "metadata": {},
   "outputs": [],
   "source": [
    "data = df['reviews_text'][1:10]\n",
    "data"
   ]
  },
  {
   "cell_type": "code",
   "execution_count": null,
   "metadata": {
    "id": "iZ1TW8xyY1HB"
   },
   "outputs": [],
   "source": [
    "for i in data:\n",
    "    print(\"1-gram: \", extract_ngrams(i, 1))"
   ]
  },
  {
   "cell_type": "code",
   "execution_count": null,
   "metadata": {},
   "outputs": [],
   "source": [
    "for i in data:\n",
    "    print(\"1-gram: \", extract_ngrams(i, 2))"
   ]
  },
  {
   "cell_type": "code",
   "execution_count": null,
   "metadata": {},
   "outputs": [],
   "source": [
    "for i in data:\n",
    "    print(\"1-gram: \", extract_ngrams(i, 3))"
   ]
  },
  {
   "cell_type": "code",
   "execution_count": null,
   "metadata": {},
   "outputs": [],
   "source": [
    "for i in data:\n",
    "    print(\"1-gram: \", extract_ngrams(i, 4))"
   ]
  },
  {
   "cell_type": "markdown",
   "metadata": {
    "id": "cgKS50F8xqXX"
   },
   "source": [
    "# **Exploratory Data Analysis**"
   ]
  },
  {
   "cell_type": "code",
   "execution_count": null,
   "metadata": {
    "id": "CH_o43UbJs-w"
   },
   "outputs": [],
   "source": [
    "df['reviews_text'].isnull().sum()"
   ]
  },
  {
   "cell_type": "markdown",
   "metadata": {
    "id": "rXSxdE44LrVA"
   },
   "source": [
    "###  **So, What is the maximum no. of ratings that people gave?**"
   ]
  },
  {
   "cell_type": "code",
   "execution_count": null,
   "metadata": {
    "id": "hdYKJYZcL1T1"
   },
   "outputs": [],
   "source": [
    "df['reviews_rating'].value_counts()"
   ]
  },
  {
   "cell_type": "markdown",
   "metadata": {
    "id": "7BkKKXzvL2Bn"
   },
   "source": [
    "### **Now, lets have a look what do the length of the reviews tell about the ratings**"
   ]
  },
  {
   "cell_type": "code",
   "execution_count": null,
   "metadata": {
    "id": "-YnCfsQBL2eA"
   },
   "outputs": [],
   "source": [
    " df['reviews_text'].apply(len)"
   ]
  },
  {
   "cell_type": "markdown",
   "metadata": {
    "id": "hbmC0SEvRAEU"
   },
   "source": [
    "### **Word Clouds**"
   ]
  },
  {
   "cell_type": "code",
   "execution_count": null,
   "metadata": {
    "id": "tReNOGvzKiPr"
   },
   "outputs": [],
   "source": [
    "from wordcloud import WordCloud, STOPWORDS\n",
    "stopwords = set(STOPWORDS)\n",
    "\n",
    "def show_wordcloud(data, title=None):\n",
    "    wordcloud = WordCloud(\n",
    "    background_color = 'black',\n",
    "    stopwords=stopwords,\n",
    "    max_words=200,\n",
    "    max_font_size=40,\n",
    "    scale=3,\n",
    "    random_state=1 #choose at random\n",
    "    ).generate(str(data))\n",
    "    \n",
    "    fig = plt.figure(1, figsize=(15,15))\n",
    "    plt.axis('off')\n",
    "    if title:\n",
    "        fig.suptitle(title, fontsize=20)\n",
    "        fig.subplots_adjust(top = 2.3)\n",
    "        \n",
    "    plt.imshow(wordcloud)\n",
    "    plt.show()\n",
    "    \n",
    "show_wordcloud(df['reviews_text'])"
   ]
  },
  {
   "cell_type": "code",
   "execution_count": null,
   "metadata": {
    "id": "xol4zYaZROvE"
   },
   "outputs": [],
   "source": [
    "# alternate code, seems to yield different results\n",
    "wordcloud = WordCloud(background_color='salmon', colormap='Pastel1',stopwords=stopwords, max_words=400, max_font_size=40, scale=30,\n",
    "        random_state=1).generate_from_frequencies((df['reviews_text'].value_counts()  ))\n",
    "plt.figure(figsize=(15, 15))\n",
    "plt.imshow(wordcloud, interpolation=\"bilinear\")\n",
    "plt.axis(\"off\")\n",
    "plt.show()"
   ]
  },
  {
   "cell_type": "code",
   "execution_count": null,
   "metadata": {
    "id": "bsiDOS7KRU8h"
   },
   "outputs": [],
   "source": [
    "# try to tokenize to individual word (uni-gram) - reviews.title\n",
    "split_title = []\n",
    "listCounts = []\n",
    "split_title = [x.split(\" \") for x in df['reviews_text'].astype(str)]\n",
    "big_list = []\n",
    "for x in split_title:\n",
    "    big_list.extend(x)\n",
    "\n",
    "listCounts = pd.Series(big_list).value_counts()\n",
    "\n",
    "wordcloud = WordCloud(background_color='white', max_words=400, max_font_size=40, scale=30,\n",
    "        random_state=1).generate((listCounts[listCounts > 2]).to_string())\n",
    "plt.figure(figsize=(15, 15))\n",
    "plt.imshow(wordcloud, interpolation=\"bilinear\")\n",
    "plt.axis(\"off\")\n",
    "plt.show()"
   ]
  },
  {
   "cell_type": "markdown",
   "metadata": {
    "id": "2H1WjlpfBZfO"
   },
   "source": [
    "### **Genuine Reviews**"
   ]
  },
  {
   "cell_type": "code",
   "execution_count": null,
   "metadata": {
    "id": "dbXSi-wbNVF7"
   },
   "outputs": [],
   "source": [
    "df.columns"
   ]
  },
  {
   "cell_type": "code",
   "execution_count": null,
   "metadata": {
    "id": "DYxQGt_mM36l"
   },
   "outputs": [],
   "source": [
    "df[\"reviews_didPurchase\"].head(2)"
   ]
  },
  {
   "cell_type": "code",
   "execution_count": null,
   "metadata": {
    "id": "brXFYjD1SWb_"
   },
   "outputs": [],
   "source": [
    "# shoppers who did purchased the product and provided the review \n",
    "df['reviews_didPurchase'].fillna('Review N/A', inplace=True)"
   ]
  },
  {
   "cell_type": "code",
   "execution_count": null,
   "metadata": {},
   "outputs": [],
   "source": [
    "plt.figure(figsize=(10,8))\n",
    "ax=sns.countplot(df['reviews_didPurchase'])\n",
    "ax.set_xlabel(xlabel=\"People's Reviews\",fontsize=17)\n",
    "ax.set_ylabel(ylabel='No. of Reviews',fontsize=17)\n",
    "ax.axes.set_title('Genuine No. of Reviews',fontsize=17)\n",
    "ax.tick_params(labelsize=13)"
   ]
  },
  {
   "cell_type": "markdown",
   "metadata": {
    "id": "2aXRkAjJSe0x"
   },
   "source": [
    "### **Correlation Map**"
   ]
  },
  {
   "cell_type": "code",
   "execution_count": null,
   "metadata": {},
   "outputs": [],
   "source": [
    "sns.set(font_scale=1.4)\n",
    "plt.figure(figsize = (10,5))\n",
    "sns.heatmap(df.corr(),cmap='coolwarm',annot=True,linewidths=.5)\n",
    "b,t = plt.ylim()\n",
    "b+=0.5\n",
    "t-=0.5\n",
    "plt.ylim(b,t)\n",
    "plt.show()"
   ]
  },
  {
   "cell_type": "markdown",
   "metadata": {
    "id": "TQ3SA4Nl8cMX"
   },
   "source": [
    "### **Most Bought Product**"
   ]
  },
  {
   "cell_type": "code",
   "execution_count": null,
   "metadata": {},
   "outputs": [],
   "source": [
    "df.head(2)"
   ]
  },
  {
   "cell_type": "code",
   "execution_count": null,
   "metadata": {},
   "outputs": [],
   "source": [
    "df.columns"
   ]
  },
  {
   "cell_type": "code",
   "execution_count": null,
   "metadata": {},
   "outputs": [],
   "source": [
    "df['name']"
   ]
  },
  {
   "cell_type": "code",
   "execution_count": null,
   "metadata": {},
   "outputs": [],
   "source": [
    "df['name'].value_counts().sort_values(ascending=False).head(1)"
   ]
  },
  {
   "cell_type": "markdown",
   "metadata": {},
   "source": [
    "#### 'Clorox Disinfecting Wipes Value Pack Scented 150 Ct Total' is the most brought product"
   ]
  },
  {
   "cell_type": "markdown",
   "metadata": {
    "id": "x-sMAiUTDfL-"
   },
   "source": [
    "### **Most purchased Product - 5 Rating**"
   ]
  },
  {
   "cell_type": "code",
   "execution_count": null,
   "metadata": {},
   "outputs": [],
   "source": [
    "df['reviews_rating'].head(3)"
   ]
  },
  {
   "cell_type": "code",
   "execution_count": null,
   "metadata": {},
   "outputs": [],
   "source": [
    "df_mostpurchased=df[df.reviews_rating == 5]\n",
    "df_mostpurchased.head(2)"
   ]
  },
  {
   "cell_type": "code",
   "execution_count": null,
   "metadata": {},
   "outputs": [],
   "source": [
    "df_mostpurchased['name'].value_counts().sort_values(ascending=False).head(1)"
   ]
  },
  {
   "cell_type": "markdown",
   "metadata": {},
   "source": [
    "#### 'Clorox Disinfecting Wipes Value Pack Scented 150 Ct Total' is the Most purchased Product - 5 Rating"
   ]
  },
  {
   "cell_type": "markdown",
   "metadata": {
    "id": "Qsi5zCcV9PNw"
   },
   "source": [
    "### **Most purchased Product - 1 Rating**"
   ]
  },
  {
   "cell_type": "code",
   "execution_count": null,
   "metadata": {},
   "outputs": [],
   "source": [
    "df_mostpurchased_1=df[df.reviews_rating == 1]\n",
    "df_mostpurchased_1.head(2)"
   ]
  },
  {
   "cell_type": "code",
   "execution_count": null,
   "metadata": {},
   "outputs": [],
   "source": [
    "df_mostpurchased_1['name'].value_counts().sort_values(ascending=False).head(2)"
   ]
  },
  {
   "cell_type": "markdown",
   "metadata": {},
   "source": [
    "#### 'Rubbermaid174 Reveal Spray Mop' is the Most purchased Product - 1 Rating"
   ]
  },
  {
   "cell_type": "markdown",
   "metadata": {
    "id": "oxkXr9mRTpPt"
   },
   "source": [
    "## **Topic Modelling - Count Vectorizer**"
   ]
  },
  {
   "cell_type": "markdown",
   "metadata": {
    "id": "BPjgIWeOUlnN"
   },
   "source": [
    "### **Gensim**"
   ]
  },
  {
   "cell_type": "code",
   "execution_count": null,
   "metadata": {},
   "outputs": [],
   "source": [
    "x1=df['reviews_text'][:10]\n",
    "x1.head(3)"
   ]
  },
  {
   "cell_type": "code",
   "execution_count": null,
   "metadata": {
    "colab": {
     "base_uri": "https://localhost:8080/",
     "height": 231
    },
    "id": "P7TSAuTZj01q",
    "outputId": "796c782c-4653-4b27-ecfd-3a5ad1c446c9"
   },
   "outputs": [],
   "source": [
    "from sklearn.feature_extraction.text import CountVectorizer\n",
    "# compute vector space with sklearn\n",
    "vect = CountVectorizer(min_df=1, ngram_range=(1, 1), max_features=25000)\n",
    "corpus_vect = vect.fit_transform(x1)\n",
    "# each doc is a scipy sparse matrix\n",
    "print(vect.vocabulary_)"
   ]
  },
  {
   "cell_type": "code",
   "execution_count": null,
   "metadata": {
    "id": "lp5v_Fm_j1CF"
   },
   "outputs": [],
   "source": [
    "import gensim\n",
    "# transform sparse matrix into gensim corpus\n",
    "corpus_vect_gensim = gensim.matutils.Sparse2Corpus(corpus_vect, documents_columns=False)\n",
    "lsi = gensim.models.LsiModel(corpus_vect_gensim, num_topics=4)\n",
    "# I instead would like something like this line below\n",
    "# lsi = gensim.models.LsiModel(corpus_vect_gensim, id2word=vect.vocabulary_, num_topics=2)\n",
    "print(lsi.print_topics(2))"
   ]
  },
  {
   "cell_type": "markdown",
   "metadata": {
    "id": "UrqIUKvAVElk"
   },
   "source": [
    "### **Latent Semantic Analysis**"
   ]
  },
  {
   "cell_type": "code",
   "execution_count": null,
   "metadata": {
    "id": "mIWHfvDblZw_"
   },
   "outputs": [],
   "source": [
    "vectorizer = CountVectorizer()\n",
    "\n",
    "counts_matrix = vectorizer.fit_transform(x1)\n",
    "\n",
    "feature_names = vectorizer.get_feature_names()\n",
    "\n",
    "count_matrix_df = pd.DataFrame(counts_matrix.toarray(), columns=feature_names)\n",
    "#count_matrix_df.index = ['Document 1','Document 2','Document 3','Document 4']\n",
    "\n",
    "#print(\"Word frequency matrix: \\n\", count_matrix_df)"
   ]
  },
  {
   "cell_type": "code",
   "execution_count": null,
   "metadata": {
    "id": "qGJR6-hrmARx"
   },
   "outputs": [],
   "source": [
    "print(\"Word frequency matrix: \\n\", count_matrix_df)"
   ]
  },
  {
   "cell_type": "markdown",
   "metadata": {
    "id": "nNOp4DR-Z-L4"
   },
   "source": [
    "## **Topic Modelling - TF-IDF Vectorizer**"
   ]
  },
  {
   "cell_type": "code",
   "execution_count": null,
   "metadata": {
    "id": "SbzHfCufYZPj"
   },
   "outputs": [],
   "source": [
    "from sklearn.feature_extraction.text import TfidfVectorizer"
   ]
  },
  {
   "cell_type": "markdown",
   "metadata": {
    "id": "tNLhdnH6a5PK"
   },
   "source": [
    "### **Gensim**"
   ]
  },
  {
   "cell_type": "code",
   "execution_count": null,
   "metadata": {},
   "outputs": [],
   "source": [
    "vect1 = TfidfVectorizer(min_df=1, ngram_range=(1, 1), max_features=25000)\n",
    "corpus_vect1 = vect1.fit_transform(x1)\n",
    "# each doc is a scipy sparse matrix\n",
    "print(vect1.vocabulary_)"
   ]
  },
  {
   "cell_type": "code",
   "execution_count": null,
   "metadata": {},
   "outputs": [],
   "source": [
    "corpus_vect_gensim1 = gensim.matutils.Sparse2Corpus(corpus_vect1, documents_columns=False)\n",
    "lsi1 = gensim.models.LsiModel(corpus_vect_gensim1, num_topics=4)\n",
    "# I instead would like something like this line below\n",
    "# lsi = gensim.models.LsiModel(corpus_vect_gensim, id2word=vect.vocabulary_, num_topics=2)\n",
    "print(lsi1.print_topics(2))"
   ]
  },
  {
   "cell_type": "markdown",
   "metadata": {
    "id": "Qe1EnYHXbzZV"
   },
   "source": [
    "### **Latent Semantic Analysis**"
   ]
  },
  {
   "cell_type": "code",
   "execution_count": null,
   "metadata": {
    "id": "nt7wBcB9b6Zu"
   },
   "outputs": [],
   "source": [
    "# Topic Modeling with Matrix Factorization and LSA (Latent Semantic Analysis) aka Singular Value Decomposition (SVD)"
   ]
  },
  {
   "cell_type": "code",
   "execution_count": null,
   "metadata": {},
   "outputs": [],
   "source": [
    "from sklearn.cluster import KMeans"
   ]
  },
  {
   "cell_type": "code",
   "execution_count": null,
   "metadata": {
    "id": "l4PsFfnumuN2"
   },
   "outputs": [],
   "source": [
    "vectorizer = TfidfVectorizer(stop_words=stopwords,max_features=10000, max_df = 0.5,\n",
    "                                    use_idf = True,\n",
    "                                    ngram_range=(1,3))\n",
    "\n",
    "X = vectorizer.fit_transform(x1)\n",
    "print(X.shape)\n",
    "print(feature_names)\n",
    "\n",
    "num_clusters = 4\n",
    "\n",
    "km = KMeans(n_clusters=num_clusters)\n",
    "km.fit(X)\n",
    "    \n",
    "clusters = km.labels_.tolist()\n",
    "print(clusters)"
   ]
  },
  {
   "cell_type": "markdown",
   "metadata": {},
   "source": [
    "# **Training Data Preparation**"
   ]
  },
  {
   "cell_type": "markdown",
   "metadata": {
    "id": "2lyruxjmBQ1P"
   },
   "source": [
    "### **Using the n-gram tfidf vectorizer**"
   ]
  },
  {
   "cell_type": "code",
   "execution_count": null,
   "metadata": {
    "id": "oXvK5ewRe7J4"
   },
   "outputs": [],
   "source": [
    "import string\n",
    "from sklearn.svm import LinearSVC\n",
    "from wordcloud import WordCloud, STOPWORDS\n",
    "import missingno as msno\n",
    "from nltk.corpus import stopwords\n",
    "from nltk.stem import WordNetLemmatizer\n",
    "from spellchecker import SpellChecker\n",
    "import re\n",
    "import nltk"
   ]
  },
  {
   "cell_type": "code",
   "execution_count": null,
   "metadata": {
    "id": "K4RYNu5K1mmS"
   },
   "outputs": [],
   "source": [
    "# Import the numpy, pandas and other required packages\n",
    "import numpy as np\n",
    "import pandas as pd\n",
    "import matplotlib.pyplot as plt\n",
    "import seaborn as sns"
   ]
  },
  {
   "cell_type": "code",
   "execution_count": null,
   "metadata": {
    "id": "aMwyuhv71Cty"
   },
   "outputs": [],
   "source": [
    "all_text=df['reviews_text']\n",
    "train_text=df['reviews_text']\n",
    "y=df['reviews_rating']"
   ]
  },
  {
   "cell_type": "code",
   "execution_count": null,
   "metadata": {
    "id": "bsHGPmRxgtlP"
   },
   "outputs": [],
   "source": [
    "from sklearn.feature_extraction.text import TfidfVectorizer\n",
    "vectorizer = TfidfVectorizer()"
   ]
  },
  {
   "cell_type": "code",
   "execution_count": null,
   "metadata": {
    "id": "xbDOkfnofPOo"
   },
   "outputs": [],
   "source": [
    "word_vectorizer = TfidfVectorizer(\n",
    "    sublinear_tf=True,\n",
    "    strip_accents='unicode',\n",
    "    analyzer='word',\n",
    "    token_pattern=r'\\w{1,}',\n",
    "    stop_words='english',\n",
    "    ngram_range=(1, 1),\n",
    "    max_features=10000)\n",
    "word_vectorizer.fit(all_text)\n",
    "train_word_features = word_vectorizer.transform(train_text)"
   ]
  },
  {
   "cell_type": "code",
   "execution_count": null,
   "metadata": {},
   "outputs": [],
   "source": [
    "df2=pd.DataFrame(train_word_features.toarray(), columns = word_vectorizer.get_feature_names())"
   ]
  },
  {
   "cell_type": "code",
   "execution_count": null,
   "metadata": {},
   "outputs": [],
   "source": [
    "df2.head(2)"
   ]
  },
  {
   "cell_type": "code",
   "execution_count": null,
   "metadata": {
    "id": "JUVADjtDJXdI"
   },
   "outputs": [],
   "source": [
    "from sklearn.model_selection import cross_val_score\n",
    "from scipy.sparse import hstack\n",
    "from sklearn.feature_extraction.text import TfidfVectorizer"
   ]
  },
  {
   "cell_type": "code",
   "execution_count": null,
   "metadata": {
    "colab": {
     "base_uri": "https://localhost:8080/"
    },
    "id": "HHlEP3B6I7oX",
    "outputId": "748663d0-8526-4d31-81a8-00010e9e743b"
   },
   "outputs": [],
   "source": [
    "char_vectorizer = TfidfVectorizer(\n",
    "    sublinear_tf=True,\n",
    "    strip_accents='unicode',\n",
    "    analyzer='char',\n",
    "    #stop_words='english',\n",
    "    ngram_range=(2, 6),\n",
    "    max_features=50000)\n",
    "char_vectorizer.fit(all_text)\n",
    "train_char_features = char_vectorizer.transform(train_text)\n",
    "\n",
    "train_features = hstack([train_char_features, train_word_features])"
   ]
  },
  {
   "cell_type": "code",
   "execution_count": null,
   "metadata": {
    "colab": {
     "base_uri": "https://localhost:8080/"
    },
    "id": "tXDljtQFJxE7",
    "outputId": "d9cf3a0d-01d8-451d-e2da-eb114b248032"
   },
   "outputs": [],
   "source": [
    "train_features.shape"
   ]
  },
  {
   "cell_type": "markdown",
   "metadata": {},
   "source": [
    "### **Splitting the dataset into train and test**"
   ]
  },
  {
   "cell_type": "code",
   "execution_count": null,
   "metadata": {
    "id": "B1GHwb5CJj-F"
   },
   "outputs": [],
   "source": [
    "from sklearn.model_selection import train_test_split\n",
    "X_train, X_test, y_train, y_test = train_test_split(train_features, y,test_size=0.3,random_state=101)"
   ]
  },
  {
   "cell_type": "code",
   "execution_count": null,
   "metadata": {
    "id": "SQSplfgFBV3K"
   },
   "outputs": [],
   "source": [
    "from sklearn.metrics import roc_auc_score"
   ]
  },
  {
   "cell_type": "code",
   "execution_count": null,
   "metadata": {
    "id": "AfVx_jB7FwL8"
   },
   "outputs": [],
   "source": [
    "from sklearn.model_selection import cross_val_score"
   ]
  },
  {
   "cell_type": "markdown",
   "metadata": {
    "id": "7JmzzijeC10e"
   },
   "source": [
    "# **ML Model**"
   ]
  },
  {
   "cell_type": "markdown",
   "metadata": {},
   "source": [
    "### **Logistic Regression**"
   ]
  },
  {
   "cell_type": "code",
   "execution_count": null,
   "metadata": {
    "id": "vS5PrNJLAt50"
   },
   "outputs": [],
   "source": [
    "##Logistic regression\n",
    "\n",
    "from sklearn.linear_model import LogisticRegression\n",
    "from sklearn import metrics\n",
    "\n",
    "lr0 = LogisticRegression(solver='lbfgs',max_iter=1000)"
   ]
  },
  {
   "cell_type": "code",
   "execution_count": null,
   "metadata": {
    "colab": {
     "base_uri": "https://localhost:8080/"
    },
    "id": "Lgp-h4p8BN01",
    "outputId": "4efbe63b-294e-447a-934f-912c1a9fceaf"
   },
   "outputs": [],
   "source": [
    "lr0.fit(X_train,y_train)"
   ]
  },
  {
   "cell_type": "code",
   "execution_count": null,
   "metadata": {
    "id": "uwtcCr9dWetz"
   },
   "outputs": [],
   "source": [
    "preds=lr0.predict(X_test)"
   ]
  },
  {
   "cell_type": "code",
   "execution_count": null,
   "metadata": {
    "colab": {
     "base_uri": "https://localhost:8080/"
    },
    "id": "9ZhDGAPCWkyL",
    "outputId": "7a111a05-60b6-4a9f-b27a-ea261f3edd05"
   },
   "outputs": [],
   "source": [
    "rf_accuracy=metrics.accuracy_score(preds,y_test)\n",
    "rf_accuracy"
   ]
  },
  {
   "cell_type": "code",
   "execution_count": null,
   "metadata": {},
   "outputs": [],
   "source": []
  },
  {
   "cell_type": "code",
   "execution_count": null,
   "metadata": {},
   "outputs": [],
   "source": []
  },
  {
   "cell_type": "markdown",
   "metadata": {
    "id": "I2jDqN2aC5vI"
   },
   "source": [
    "### **Random Forest Classifier**"
   ]
  },
  {
   "cell_type": "code",
   "execution_count": null,
   "metadata": {
    "id": "8ycj4oc_Bntn"
   },
   "outputs": [],
   "source": [
    "### Random forest classifier\n",
    "\n",
    "from sklearn.ensemble import RandomForestClassifier\n",
    "\n",
    "classifier = RandomForestClassifier()\n",
    "classifier.fit(X_train,y_train)\n",
    "preds2=classifier.predict(X_test)"
   ]
  },
  {
   "cell_type": "code",
   "execution_count": null,
   "metadata": {
    "id": "i3YkXpmGKd1G"
   },
   "outputs": [],
   "source": [
    "from sklearn.metrics import accuracy_score"
   ]
  },
  {
   "cell_type": "code",
   "execution_count": null,
   "metadata": {
    "colab": {
     "base_uri": "https://localhost:8080/"
    },
    "id": "VoauqiZuMaW7",
    "outputId": "5929391d-e506-40e0-dc8b-e424365d1b39"
   },
   "outputs": [],
   "source": [
    "rf_accuracy2=accuracy_score(preds2,y_test)\n",
    "rf_accuracy2"
   ]
  },
  {
   "cell_type": "code",
   "execution_count": null,
   "metadata": {},
   "outputs": [],
   "source": []
  },
  {
   "cell_type": "code",
   "execution_count": null,
   "metadata": {},
   "outputs": [],
   "source": []
  },
  {
   "cell_type": "markdown",
   "metadata": {
    "id": "p6bHfJ98C-l_"
   },
   "source": [
    "### **XGBoost**"
   ]
  },
  {
   "cell_type": "code",
   "execution_count": null,
   "metadata": {
    "id": "I-qZTKvWMrMI"
   },
   "outputs": [],
   "source": [
    "### XGBoost\n",
    "\n",
    "import xgboost as xgb\n",
    "xgb=xgb.XGBClassifier()\n",
    "xgb.fit(X_train,y_train)\n",
    "preds3=xgb.predict(X_test)"
   ]
  },
  {
   "cell_type": "code",
   "execution_count": null,
   "metadata": {
    "colab": {
     "base_uri": "https://localhost:8080/"
    },
    "id": "u088GdWWOs2C",
    "outputId": "359dcd3f-da6d-435d-db7f-11accfeedfc0"
   },
   "outputs": [],
   "source": [
    "rf_accuracy3=accuracy_score(preds3,y_test)\n",
    "rf_accuracy3"
   ]
  },
  {
   "cell_type": "code",
   "execution_count": null,
   "metadata": {},
   "outputs": [],
   "source": []
  },
  {
   "cell_type": "code",
   "execution_count": null,
   "metadata": {},
   "outputs": [],
   "source": []
  },
  {
   "cell_type": "markdown",
   "metadata": {},
   "source": [
    "### **Naive Bayes**"
   ]
  },
  {
   "cell_type": "code",
   "execution_count": null,
   "metadata": {
    "id": "6jW2ZWnTVTJ7"
   },
   "outputs": [],
   "source": [
    "### Naive Bayes\n",
    "\n",
    "\n",
    "from sklearn.naive_bayes import MultinomialNB        # using multiNomial Naive Bayes as classifier\n",
    "\n",
    "clf= MultinomialNB()\n",
    "\n",
    "clf.fit(X_train,y_train)\n",
    "pred4= clf.predict(X_test)\n",
    "##print(roc_auc_score(pred,y_test))"
   ]
  },
  {
   "cell_type": "code",
   "execution_count": null,
   "metadata": {
    "colab": {
     "base_uri": "https://localhost:8080/"
    },
    "id": "gJi0MR4pYESp",
    "outputId": "cbbfec01-ba47-4e90-a1e6-1cb25e7e86db"
   },
   "outputs": [],
   "source": [
    "rf_accuracy4=accuracy_score(pred4,y_test)\n",
    "rf_accuracy4"
   ]
  },
  {
   "cell_type": "code",
   "execution_count": null,
   "metadata": {},
   "outputs": [],
   "source": []
  },
  {
   "cell_type": "code",
   "execution_count": null,
   "metadata": {},
   "outputs": [],
   "source": []
  },
  {
   "cell_type": "markdown",
   "metadata": {
    "id": "YdOWA13bGD07"
   },
   "source": [
    "# **Deep Learning Model**"
   ]
  },
  {
   "cell_type": "markdown",
   "metadata": {
    "id": "alfWt5ZEHfwt"
   },
   "source": [
    "### **Label the Ratings** \n",
    "\n"
   ]
  },
  {
   "cell_type": "code",
   "execution_count": null,
   "metadata": {},
   "outputs": [],
   "source": [
    "df.head(2)"
   ]
  },
  {
   "cell_type": "code",
   "execution_count": null,
   "metadata": {},
   "outputs": [],
   "source": [
    "# To classify ratings<4 as sentiment, i.e. replace ratings less than 4 as not happy\n",
    "# label 1= Happy having sentiment 'False'\n",
    "# label 2= Unhappy having sentiment 'True'\n",
    "df['sentiment'] = df['reviews_rating']<4"
   ]
  },
  {
   "cell_type": "code",
   "execution_count": null,
   "metadata": {
    "id": "oe7fIrYJYJVR"
   },
   "outputs": [],
   "source": [
    "### Keras Model\n",
    "\n",
    "df[['sentiment','reviews_rating']].head(10)"
   ]
  },
  {
   "cell_type": "code",
   "execution_count": null,
   "metadata": {
    "id": "9eK30WcOZNn3"
   },
   "outputs": [],
   "source": [
    "from sklearn.model_selection import train_test_split\n",
    "train_text, test_text, train_y, test_y = train_test_split(df['reviews_text'],df['sentiment'],test_size = 0.3)"
   ]
  },
  {
   "cell_type": "code",
   "execution_count": null,
   "metadata": {
    "id": "0yHI-nIDZQ0A"
   },
   "outputs": [],
   "source": [
    "from keras.preprocessing.text import Tokenizer\n",
    "from keras.preprocessing.sequence import pad_sequences\n",
    "from keras.preprocessing.text import Tokenizer\n",
    "from keras.preprocessing.sequence import pad_sequences\n",
    "from keras.models import Sequential\n",
    "from keras.layers import Dense, Embedding, LSTM\n",
    "from keras.utils.np_utils import to_categorical\n",
    "from keras.callbacks import ModelCheckpoint\n",
    "from keras.models import load_model\n",
    "from keras.optimizers import Adam"
   ]
  },
  {
   "cell_type": "code",
   "execution_count": null,
   "metadata": {
    "colab": {
     "base_uri": "https://localhost:8080/"
    },
    "id": "y_IacWGIZl7M",
    "outputId": "cd8a7de6-dc43-45a6-dc97-01005ffedde2"
   },
   "outputs": [],
   "source": [
    "MAX_NB_WORDS = 20000\n",
    "\n",
    "# get the raw text data\n",
    "texts_train = train_text.astype(str)\n",
    "texts_test = test_text.astype(str)\n",
    "\n",
    "# finally, vectorize the text samples into a 2D integer tensor\n",
    "tokenizer = Tokenizer(nb_words=MAX_NB_WORDS, char_level=False)\n",
    "tokenizer.fit_on_texts(texts_train)\n",
    "sequences = tokenizer.texts_to_sequences(texts_train)\n",
    "sequences_test = tokenizer.texts_to_sequences(texts_test)\n",
    "\n",
    "word_index = tokenizer.word_index\n",
    "print('Found %s unique tokens.' % len(word_index))"
   ]
  },
  {
   "cell_type": "code",
   "execution_count": null,
   "metadata": {
    "colab": {
     "base_uri": "https://localhost:8080/"
    },
    "id": "iB1xgvslaMpr",
    "outputId": "12d0e447-f68d-41d0-95b3-6b81694de914"
   },
   "outputs": [],
   "source": [
    "MAX_SEQUENCE_LENGTH = 200\n",
    "#pad sequences are used to bring all sentences to same size.\n",
    "# pad sequences with 0s\n",
    "x_train = pad_sequences(sequences, maxlen=MAX_SEQUENCE_LENGTH)\n",
    "x_test = pad_sequences(sequences_test, maxlen=MAX_SEQUENCE_LENGTH)\n",
    "print('Shape of data tensor:', x_train.shape)\n",
    "print('Shape of data test tensor:', x_test.shape)\n"
   ]
  },
  {
   "cell_type": "code",
   "execution_count": null,
   "metadata": {
    "id": "HLqj34oqUCIN"
   },
   "outputs": [],
   "source": [
    "model = Sequential()\n",
    "model.add(Embedding(MAX_NB_WORDS, 128))\n",
    "model.add(LSTM(128, dropout=0.2, recurrent_dropout=0.2,input_shape=(1,)))\n",
    "model.add(Dense(1, activation='sigmoid'))"
   ]
  },
  {
   "cell_type": "code",
   "execution_count": null,
   "metadata": {
    "id": "O_fKTkb8UE8n"
   },
   "outputs": [],
   "source": [
    "model.compile(loss='binary_crossentropy',\n",
    "              optimizer='adam',\n",
    "              metrics=['accuracy'])"
   ]
  },
  {
   "cell_type": "code",
   "execution_count": null,
   "metadata": {
    "colab": {
     "base_uri": "https://localhost:8080/"
    },
    "id": "LTJ0Tm7uUIkM",
    "outputId": "be1390fc-0222-4044-87f9-0c99507f5c95"
   },
   "outputs": [],
   "source": [
    "model.fit(x_train, train_y,\n",
    "          batch_size=128,\n",
    "          epochs=10,\n",
    "          validation_data=(x_test, test_y))"
   ]
  },
  {
   "cell_type": "code",
   "execution_count": null,
   "metadata": {
    "colab": {
     "base_uri": "https://localhost:8080/",
     "height": 359
    },
    "id": "gpVhVDKYUKxH",
    "outputId": "9faf06b4-8eaf-4781-dae6-530e9e094fa3"
   },
   "outputs": [],
   "source": [
    "df[['unhappy_customers','reviews_rating']] .head(10)"
   ]
  },
  {
   "cell_type": "code",
   "execution_count": null,
   "metadata": {
    "colab": {
     "base_uri": "https://localhost:8080/"
    },
    "id": "BYesD4knmlZW",
    "outputId": "91577ff3-3f6a-4165-a09e-fa0e34b1d750"
   },
   "outputs": [],
   "source": [
    "df.columns"
   ]
  },
  {
   "cell_type": "code",
   "execution_count": null,
   "metadata": {
    "colab": {
     "base_uri": "https://localhost:8080/",
     "height": 434
    },
    "id": "aTbBb3V5owGJ",
    "outputId": "7392367f-3c82-474a-daca-2f27c95e7463"
   },
   "outputs": [],
   "source": [
    "df.head(3)"
   ]
  },
  {
   "cell_type": "markdown",
   "metadata": {
    "id": "HigGwwlpJTfA"
   },
   "source": [
    "# **Product Recommendation**"
   ]
  },
  {
   "cell_type": "code",
   "execution_count": null,
   "metadata": {
    "colab": {
     "base_uri": "https://localhost:8080/"
    },
    "id": "3qDWAU8I5LDb",
    "outputId": "5bd268c8-6889-49f8-8fbb-c45420516258"
   },
   "outputs": [],
   "source": [
    "\n",
    "#import the reqired libraries\n",
    "from IPython.core.interactiveshell import InteractiveShell\n",
    "InteractiveShell.ast_node_interactivity = \"all\"\n",
    "import numpy as np\n",
    "import pandas as pd\n",
    "import math\n",
    "import json\n",
    "import time\n",
    "import matplotlib.pyplot as plt\n",
    "import seaborn as sns\n",
    "from sklearn.metrics.pairwise import cosine_similarity\n",
    "from sklearn.model_selection import train_test_split\n",
    "from sklearn.neighbors import NearestNeighbors\n",
    "#from sklearn.externals import joblib\n",
    "import scipy.sparse\n",
    "from scipy.sparse import csr_matrix\n",
    "from scipy.sparse.linalg import svds\n",
    "import warnings; warnings.simplefilter('ignore')\n",
    "%matplotlib inline"
   ]
  },
  {
   "cell_type": "code",
   "execution_count": null,
   "metadata": {
    "colab": {
     "base_uri": "https://localhost:8080/",
     "height": 359
    },
    "id": "I8G44WmKo9ky",
    "outputId": "163e6134-d4bb-4c14-9260-c80f6536c167"
   },
   "outputs": [],
   "source": [
    "df_recommendation=df[['id','name','reviews_rating']]\n",
    "df_recommendation.head(10)"
   ]
  },
  {
   "cell_type": "code",
   "execution_count": null,
   "metadata": {
    "colab": {
     "base_uri": "https://localhost:8080/"
    },
    "id": "NSMj6bM5pX7o",
    "outputId": "bade3801-fd64-4e0d-e46a-5fc71964168e"
   },
   "outputs": [],
   "source": [
    "#Check the number of rows and columns\n",
    "rows,columns=df_recommendation.shape\n",
    "print('Number of rows: ',rows)\n",
    "print('Number of columns: ',columns)"
   ]
  },
  {
   "cell_type": "code",
   "execution_count": null,
   "metadata": {
    "id": "k-33yBnUqIyp"
   },
   "outputs": [],
   "source": [
    "#Taking subset of the dataset\n",
    "df_recommendation1=df_recommendation.iloc[:50000,0:]"
   ]
  },
  {
   "cell_type": "code",
   "execution_count": null,
   "metadata": {
    "colab": {
     "base_uri": "https://localhost:8080/"
    },
    "id": "s7PbPwbDp1Dk",
    "outputId": "444b23a4-08ad-49e5-f61c-c2c3d35998fc"
   },
   "outputs": [],
   "source": [
    "df_recommendation1['reviews_rating'].describe().transpose()"
   ]
  },
  {
   "cell_type": "code",
   "execution_count": null,
   "metadata": {
    "colab": {
     "base_uri": "https://localhost:8080/"
    },
    "id": "PI28d0RSqPbq",
    "outputId": "c264c1fe-b13b-42fa-9c92-28114aa2611b"
   },
   "outputs": [],
   "source": [
    "#Find the minimum and maximum ratings\n",
    "print('Minimum rating is: %d' %(df_recommendation1.reviews_rating.min()))\n",
    "print('Maximum rating is: %d' %(df_recommendation1.reviews_rating.max()))"
   ]
  },
  {
   "cell_type": "code",
   "execution_count": null,
   "metadata": {
    "colab": {
     "base_uri": "https://localhost:8080/"
    },
    "id": "yfoB5XIAqWT3",
    "outputId": "70f64529-7b34-451e-d64b-266f218aa6fb"
   },
   "outputs": [],
   "source": [
    "\n",
    "#Check for missing values\n",
    "print('Number of missing values across columns: \\n',df_recommendation.isnull().sum())"
   ]
  },
  {
   "cell_type": "code",
   "execution_count": null,
   "metadata": {
    "colab": {
     "base_uri": "https://localhost:8080/",
     "height": 472
    },
    "id": "K9t2McUXqeN7",
    "outputId": "632a0eea-d29a-4b54-a966-bf28bbeb5756"
   },
   "outputs": [],
   "source": [
    "# Check the distribution of the rating\n",
    "with sns.axes_style('white'):\n",
    "    g = sns.factorplot(\"reviews_rating\", data=df_recommendation1, aspect=2.0,kind='count')\n",
    "    g.set_ylabels(\"Total number of ratings\")"
   ]
  },
  {
   "cell_type": "code",
   "execution_count": null,
   "metadata": {
    "colab": {
     "base_uri": "https://localhost:8080/"
    },
    "id": "-wYMtv1uqk0K",
    "outputId": "932b9cfd-8523-4375-ba67-ecb4e8e986d6"
   },
   "outputs": [],
   "source": [
    "\n",
    "# Number of unique user id  in the data\n",
    "print('Number of unique users in Raw data = ', df_recommendation1['id'].nunique())\n",
    "# Number of unique product id  in the data\n",
    "print('Number of unique product in Raw data = ', df_recommendation1['name'].nunique())"
   ]
  },
  {
   "cell_type": "code",
   "execution_count": null,
   "metadata": {
    "id": "XlgVGgYsq4F2"
   },
   "outputs": [],
   "source": [
    "## Taking the subset of dataset to make it less sparse/ denser"
   ]
  },
  {
   "cell_type": "code",
   "execution_count": null,
   "metadata": {
    "colab": {
     "base_uri": "https://localhost:8080/"
    },
    "id": "ldh42OIcrEcE",
    "outputId": "ff388f11-3bd3-4d78-b633-52435dfe6198"
   },
   "outputs": [],
   "source": [
    "#Check the top 10 users based on ratings\n",
    "most_rated=df_recommendation1.groupby('id').size().sort_values(ascending=False)[:10]\n",
    "print('Top 10 users based on ratings: \\n',most_rated)"
   ]
  },
  {
   "cell_type": "code",
   "execution_count": null,
   "metadata": {
    "colab": {
     "base_uri": "https://localhost:8080/"
    },
    "id": "URdbZ6R_rLjC",
    "outputId": "a430e469-3bc4-4958-80a7-819b4720197d"
   },
   "outputs": [],
   "source": [
    "counts=df_recommendation1.id.value_counts()\n",
    "df_recommendation1_demo=df_recommendation1[df_recommendation1.id.isin(counts[counts>=15].index)]\n",
    "print('Number of users who have rated 25 or more items =', len(df_recommendation1_demo))\n",
    "print('Number of unique users in the final data = ', df_recommendation1_demo['id'].nunique())\n",
    "print('Number of unique products in the final data = ', df_recommendation1_demo['id'].nunique())"
   ]
  },
  {
   "cell_type": "code",
   "execution_count": null,
   "metadata": {
    "colab": {
     "base_uri": "https://localhost:8080/"
    },
    "id": "5MVZV6Q0tG3l",
    "outputId": "b0ecc1bf-2af6-4950-841c-0d5e50c8648b"
   },
   "outputs": [],
   "source": [
    "df_recommendation1_demo.count()"
   ]
  },
  {
   "cell_type": "code",
   "execution_count": null,
   "metadata": {
    "colab": {
     "base_uri": "https://localhost:8080/",
     "height": 142
    },
    "id": "CG0G7Ub_wMdt",
    "outputId": "8389e5c2-d8b6-4d1b-cc3e-8d10569aa783"
   },
   "outputs": [],
   "source": [
    "df_mid1=df_recommendation1_demo.groupby(['id','name']).mean().reset_index()\n",
    "df_mid1.head(3)"
   ]
  },
  {
   "cell_type": "code",
   "execution_count": null,
   "metadata": {
    "colab": {
     "base_uri": "https://localhost:8080/",
     "height": 142
    },
    "id": "crDhEQLbvAve",
    "outputId": "03505bb2-efe3-4fba-8969-dfbff2cadb51"
   },
   "outputs": [],
   "source": [
    "df_recommendation1_final=df_mid1[['id','name','reviews_rating']]\n",
    "df_recommendation1_final.head(3)"
   ]
  },
  {
   "cell_type": "code",
   "execution_count": null,
   "metadata": {
    "id": "Dn5IcLsqrZmi"
   },
   "outputs": [],
   "source": [
    "## ratings analysis in final dataset"
   ]
  },
  {
   "cell_type": "code",
   "execution_count": null,
   "metadata": {
    "colab": {
     "base_uri": "https://localhost:8080/",
     "height": 454
    },
    "id": "me1MnMn1rr0X",
    "outputId": "2ebe9ff6-cebc-4ea0-ac61-bea75f015fa9"
   },
   "outputs": [],
   "source": [
    "#constructing the pivot table\n",
    "final_ratings_matrix = df_recommendation1_final.pivot(index = 'id', columns ='name', values = 'reviews_rating').fillna(0)\n",
    "final_ratings_matrix.head()"
   ]
  },
  {
   "cell_type": "code",
   "execution_count": null,
   "metadata": {
    "colab": {
     "base_uri": "https://localhost:8080/"
    },
    "id": "Ggc7eLFIrz7L",
    "outputId": "67ee72ec-3a4f-4e41-bb61-04d4efa71da2"
   },
   "outputs": [],
   "source": [
    "print('Shape of final_ratings_matrix: ', final_ratings_matrix.shape)"
   ]
  },
  {
   "cell_type": "code",
   "execution_count": null,
   "metadata": {
    "colab": {
     "base_uri": "https://localhost:8080/"
    },
    "id": "i6--4qZnxLVo",
    "outputId": "c257b329-6f54-45f0-a643-39ff31aa1c87"
   },
   "outputs": [],
   "source": [
    "#Calucating the density of the rating marix\n",
    "given_num_of_ratings = np.count_nonzero(final_ratings_matrix)\n",
    "print('given_num_of_ratings = ', given_num_of_ratings)\n",
    "possible_num_of_ratings = final_ratings_matrix.shape[0] * final_ratings_matrix.shape[1]\n",
    "print('possible_num_of_ratings = ', possible_num_of_ratings)\n",
    "density = (given_num_of_ratings/possible_num_of_ratings)\n",
    "density *= 100\n",
    "print ('density: {:4.2f}%'.format(density))"
   ]
  },
  {
   "cell_type": "code",
   "execution_count": null,
   "metadata": {
    "id": "v0dSTif8xPqb"
   },
   "outputs": [],
   "source": [
    "## Splitting the data"
   ]
  },
  {
   "cell_type": "code",
   "execution_count": null,
   "metadata": {
    "colab": {
     "base_uri": "https://localhost:8080/",
     "height": 204
    },
    "id": "7440rOaBxaMH",
    "outputId": "7f7f2df0-1d3b-4461-8b17-91b9d4a011cd"
   },
   "outputs": [],
   "source": [
    "#Split the data randomnly into train and test datasets into 70:30 ratio\n",
    "train_data, test_data = train_test_split(df_recommendation1_final, test_size = 0.3, random_state=0)\n",
    "train_data.head()"
   ]
  },
  {
   "cell_type": "code",
   "execution_count": null,
   "metadata": {
    "colab": {
     "base_uri": "https://localhost:8080/"
    },
    "id": "6PSPHSUYxeni",
    "outputId": "75153fa0-4296-49a1-d067-b167ba5a93bb"
   },
   "outputs": [],
   "source": [
    "\n",
    "print('Shape of training data: ',train_data.shape)\n",
    "print('Shape of testing data: ',test_data.shape)"
   ]
  },
  {
   "cell_type": "code",
   "execution_count": null,
   "metadata": {
    "id": "iH_Pq9-AxoIn"
   },
   "outputs": [],
   "source": [
    "### Building Popularity Recommder model"
   ]
  },
  {
   "cell_type": "code",
   "execution_count": null,
   "metadata": {
    "colab": {
     "base_uri": "https://localhost:8080/",
     "height": 142
    },
    "id": "o9lT-sAXyhF_",
    "outputId": "eb0558fb-7366-4da1-d141-fc4b23bc5e8a"
   },
   "outputs": [],
   "source": [
    "train_data.head(3)"
   ]
  },
  {
   "cell_type": "code",
   "execution_count": null,
   "metadata": {
    "colab": {
     "base_uri": "https://localhost:8080/",
     "height": 306
    },
    "id": "D_qNOaDkxtp_",
    "outputId": "cef75c8d-9c98-4123-94d2-3406a6949870"
   },
   "outputs": [],
   "source": [
    "#Count of user_id for each unique product as recommendation score \n",
    "train_data_grouped1 = train_data\n",
    "train_data_grouped1['reviews_rating'] = train_data_grouped1['reviews_rating'].apply(np.ceil) \n",
    "train_data_grouped1.head()"
   ]
  },
  {
   "cell_type": "code",
   "execution_count": null,
   "metadata": {
    "colab": {
     "base_uri": "https://localhost:8080/",
     "height": 444
    },
    "id": "UwXTso2J0Vn4",
    "outputId": "1e024612-ae27-4a04-d89d-5b3805556c28"
   },
   "outputs": [],
   "source": [
    "#Count of user_id for each unique product as recommendation score \n",
    "train_data_grouped = train_data_grouped1[['name','reviews_rating']]\n",
    "train_data_grouped.rename(columns = {'reviews_rating': 'score'},inplace=True)\n",
    "train_data_grouped.head(10)"
   ]
  },
  {
   "cell_type": "code",
   "execution_count": null,
   "metadata": {
    "colab": {
     "base_uri": "https://localhost:8080/",
     "height": 204
    },
    "id": "uVoNp1oW0QbZ",
    "outputId": "7ad48c7b-a45d-4e32-ff91-664e1f806947"
   },
   "outputs": [],
   "source": [
    "\n",
    "#Sort the products on recommendation score \n",
    "train_data_sort = train_data_grouped.sort_values(['score', 'name'], ascending = [0,1]) \n",
    "      \n",
    "#Generate a recommendation rank based upon score \n",
    "train_data_sort['rank'] = train_data_sort['score'].rank(ascending=0, method='first') \n",
    "          \n",
    "#Get the top 5 recommendations \n",
    "popularity_recommendations = train_data_sort.head(5) \n",
    "popularity_recommendations"
   ]
  },
  {
   "cell_type": "code",
   "execution_count": null,
   "metadata": {
    "id": "PzHTQpDVx5r4"
   },
   "outputs": [],
   "source": [
    "# Use popularity based recommender model to make predictions\n",
    "def recommend(id):     \n",
    "    user_recommendations = popularity_recommendations \n",
    "          \n",
    "    #Add user_id column for which the recommendations are being generated \n",
    "    user_recommendations['id'] = id \n",
    "      \n",
    "    #Bring user_id column to the front \n",
    "    cols = user_recommendations.columns.tolist() \n",
    "    cols = cols[-1:] + cols[:-1] \n",
    "    user_recommendations = user_recommendations[cols] \n",
    "          \n",
    "    return user_recommendations"
   ]
  },
  {
   "cell_type": "code",
   "execution_count": null,
   "metadata": {
    "colab": {
     "base_uri": "https://localhost:8080/"
    },
    "id": "HNUyOmN7yHYh",
    "outputId": "3d14f6e8-bf40-4053-d734-706f232c30d4"
   },
   "outputs": [],
   "source": [
    "\n",
    "find_recom = [10,100,150]   # This list is user choice.\n",
    "for i in find_recom:\n",
    "    print(\"The list of recommendations for the userId: %d\\n\" %(i))\n",
    "    print(recommend(i))    \n",
    "    print(\"\\n\")"
   ]
  },
  {
   "cell_type": "code",
   "execution_count": null,
   "metadata": {
    "id": "XrATJJVG1z1g"
   },
   "outputs": [],
   "source": [
    "### Building Collaborative Filtering recommender model"
   ]
  },
  {
   "cell_type": "code",
   "execution_count": null,
   "metadata": {
    "colab": {
     "base_uri": "https://localhost:8080/",
     "height": 306
    },
    "id": "eHpzbrGr18Zc",
    "outputId": "692e9978-d8d2-4c23-ab90-f90d98a84710"
   },
   "outputs": [],
   "source": [
    "train_data_grouped2 = test_data\n",
    "train_data_grouped2['reviews_rating'] = train_data_grouped2['reviews_rating'].apply(np.ceil) \n",
    "train_data_grouped2.head()\n"
   ]
  },
  {
   "cell_type": "code",
   "execution_count": null,
   "metadata": {
    "colab": {
     "base_uri": "https://localhost:8080/",
     "height": 204
    },
    "id": "EsyCGkNW38PY",
    "outputId": "9bbbe6c8-d0ca-476a-87db-c198753f76a8"
   },
   "outputs": [],
   "source": [
    "df_recommendation_CF = pd.concat([train_data, test_data]).reset_index()\n",
    "df_recommendation_CF.head()"
   ]
  },
  {
   "cell_type": "code",
   "execution_count": null,
   "metadata": {
    "id": "yGo-Bop34Kb2"
   },
   "outputs": [],
   "source": [
    "## User Based Collaborative Filtering model"
   ]
  },
  {
   "cell_type": "code",
   "execution_count": null,
   "metadata": {
    "colab": {
     "base_uri": "https://localhost:8080/",
     "height": 454
    },
    "id": "W2yrTWZo4PeR",
    "outputId": "901e21da-49e0-4046-ed66-a4589f3e9331"
   },
   "outputs": [],
   "source": [
    "# Matrix with row per 'user' and column per 'item' \n",
    "pivot_df = df_recommendation_CF.pivot(index = 'id', columns ='name', values = 'reviews_rating').fillna(0)\n",
    "pivot_df.head()"
   ]
  },
  {
   "cell_type": "code",
   "execution_count": null,
   "metadata": {
    "colab": {
     "base_uri": "https://localhost:8080/"
    },
    "id": "UIWnrECs4dPg",
    "outputId": "cd6e6f1e-9439-4eb7-dbba-acbb66a0ffc3"
   },
   "outputs": [],
   "source": [
    "print('Shape of the pivot table: ', pivot_df.shape)"
   ]
  },
  {
   "cell_type": "code",
   "execution_count": null,
   "metadata": {
    "colab": {
     "base_uri": "https://localhost:8080/",
     "height": 454
    },
    "id": "bBeQ5pR74g1N",
    "outputId": "bbca42ad-1dd1-41f8-b76e-638a171b190a"
   },
   "outputs": [],
   "source": [
    "\n",
    "#define user index from 0 to 10\n",
    "pivot_df['user_index'] = np.arange(0, pivot_df.shape[0], 1)\n",
    "pivot_df.head()"
   ]
  },
  {
   "cell_type": "code",
   "execution_count": null,
   "metadata": {
    "colab": {
     "base_uri": "https://localhost:8080/",
     "height": 454
    },
    "id": "kMqKxGfr4rcg",
    "outputId": "3754c467-c0d7-4e46-bfea-9735331b1ad6"
   },
   "outputs": [],
   "source": [
    "pivot_df.set_index(['user_index'], inplace=True)\n",
    "# Actual ratings given by users\n",
    "pivot_df.head()"
   ]
  },
  {
   "cell_type": "code",
   "execution_count": null,
   "metadata": {
    "id": "f42DiJSN4yyR"
   },
   "outputs": [],
   "source": [
    "## As this is a sparse matrix we will use SVD"
   ]
  },
  {
   "cell_type": "code",
   "execution_count": null,
   "metadata": {
    "id": "3l0Kr5G643z9"
   },
   "outputs": [],
   "source": [
    "# Singular Value Decomposition\n",
    "U, sigma, Vt = svds(pivot_df, k = 10)"
   ]
  },
  {
   "cell_type": "code",
   "execution_count": null,
   "metadata": {
    "colab": {
     "base_uri": "https://localhost:8080/"
    },
    "id": "38iiQMCD47cW",
    "outputId": "0fea79d4-71f1-4942-9a81-43c5bb47a983"
   },
   "outputs": [],
   "source": [
    "print('Left singular matrix: \\n',U)"
   ]
  },
  {
   "cell_type": "code",
   "execution_count": null,
   "metadata": {
    "colab": {
     "base_uri": "https://localhost:8080/"
    },
    "id": "JgyLXaw05X49",
    "outputId": "d47a3731-50a7-4a56-d249-adffacf9ec39"
   },
   "outputs": [],
   "source": [
    "\n",
    "print('Sigma: \\n',sigma)"
   ]
  },
  {
   "cell_type": "code",
   "execution_count": null,
   "metadata": {
    "colab": {
     "base_uri": "https://localhost:8080/"
    },
    "id": "ejDEBtU_5ccy",
    "outputId": "84e1e9d7-1b36-44a3-c6a6-7b8a4e4efc6c"
   },
   "outputs": [],
   "source": [
    "# Construct diagonal array in SVD\n",
    "sigma = np.diag(sigma)\n",
    "print('Diagonal matrix: \\n',sigma)"
   ]
  },
  {
   "cell_type": "code",
   "execution_count": null,
   "metadata": {
    "colab": {
     "base_uri": "https://localhost:8080/"
    },
    "id": "94429xe-5fms",
    "outputId": "748d152e-3668-4843-f387-fbd56f91315a"
   },
   "outputs": [],
   "source": [
    "print('Right singular matrix: \\n',Vt)"
   ]
  },
  {
   "cell_type": "code",
   "execution_count": null,
   "metadata": {
    "colab": {
     "base_uri": "https://localhost:8080/",
     "height": 508
    },
    "id": "NnFYeN225jHZ",
    "outputId": "f1b713db-8c4a-45bd-ee2f-b181283bcf9d"
   },
   "outputs": [],
   "source": [
    "\n",
    "#Predicted ratings\n",
    "all_user_predicted_ratings = np.dot(np.dot(U, sigma), Vt) \n",
    "# Convert predicted ratings to dataframe\n",
    "preds_df = pd.DataFrame(all_user_predicted_ratings, columns = pivot_df.columns)\n",
    "preds_df.head()"
   ]
  },
  {
   "cell_type": "code",
   "execution_count": null,
   "metadata": {
    "id": "fc6DhPbO5mDJ"
   },
   "outputs": [],
   "source": [
    "# Recommend the items with the highest predicted ratings\n",
    "\n",
    "def recommend_items(userID, pivot_df, preds_df, num_recommendations):\n",
    "    # index starts at 0  \n",
    "    user_idx = userID-1 \n",
    "    # Get and sort the user's ratings\n",
    "    sorted_user_ratings = pivot_df.iloc[user_idx].sort_values(ascending=False)\n",
    "    #sorted_user_ratings\n",
    "    sorted_user_predictions = preds_df.iloc[user_idx].sort_values(ascending=False)\n",
    "    #sorted_user_predictions\n",
    "    temp = pd.concat([sorted_user_ratings, sorted_user_predictions], axis=1)\n",
    "    temp.index.name = 'Recommended Items'\n",
    "    temp.columns = ['user_ratings', 'user_predictions']\n",
    "    temp = temp.loc[temp.user_ratings == 0]   \n",
    "    temp = temp.sort_values('user_predictions', ascending=False)\n",
    "    print('\\nBelow are the recommended items for user(user_id = {}):\\n'.format(userID))\n",
    "    print(temp.head(num_recommendations))"
   ]
  },
  {
   "cell_type": "code",
   "execution_count": null,
   "metadata": {
    "colab": {
     "base_uri": "https://localhost:8080/"
    },
    "id": "F6ADNbh85pSU",
    "outputId": "a20a49cc-aa7e-43df-9fa9-6d84f01404cf"
   },
   "outputs": [],
   "source": [
    "userID = 4\n",
    "num_recommendations = 5\n",
    "recommend_items(userID, pivot_df, preds_df, num_recommendations)"
   ]
  },
  {
   "cell_type": "code",
   "execution_count": null,
   "metadata": {
    "colab": {
     "base_uri": "https://localhost:8080/"
    },
    "id": "fO-fvi5y5tSS",
    "outputId": "a4f6124a-add7-4a43-d0e0-7e5e490dd3a1"
   },
   "outputs": [],
   "source": [
    "userID = 6\n",
    "num_recommendations = 5\n",
    "recommend_items(userID, pivot_df, preds_df, num_recommendations)"
   ]
  },
  {
   "cell_type": "code",
   "execution_count": null,
   "metadata": {
    "colab": {
     "base_uri": "https://localhost:8080/"
    },
    "id": "X5-WXUYN5xpE",
    "outputId": "b45fbeec-4921-4cd3-a77b-a6aedda40c43"
   },
   "outputs": [],
   "source": [
    "userID = 8\n",
    "num_recommendations = 5\n",
    "recommend_items(userID, pivot_df, preds_df, num_recommendations)"
   ]
  },
  {
   "cell_type": "code",
   "execution_count": null,
   "metadata": {
    "id": "cKwDIbJ550gK"
   },
   "outputs": [],
   "source": [
    "### Since, it is a Collaborative recommender model, so, all the three users are given different recommendations based on users past behaviour."
   ]
  },
  {
   "cell_type": "code",
   "execution_count": null,
   "metadata": {
    "id": "jQE6rziC5-bj"
   },
   "outputs": [],
   "source": [
    "### Evaluation of Collabrative recommendation model"
   ]
  },
  {
   "cell_type": "code",
   "execution_count": null,
   "metadata": {
    "colab": {
     "base_uri": "https://localhost:8080/",
     "height": 454
    },
    "id": "C0f9dwHS6GQh",
    "outputId": "3ae8d5b3-2ba7-484b-c4e9-ecf38f40f0f9"
   },
   "outputs": [],
   "source": [
    "# Actual ratings given by the users\n",
    "final_ratings_matrix.head()"
   ]
  },
  {
   "cell_type": "code",
   "execution_count": null,
   "metadata": {
    "colab": {
     "base_uri": "https://localhost:8080/"
    },
    "id": "aOh0LjLo6Ihy",
    "outputId": "615c54b3-13ec-43ae-e85d-56b79b56c81a"
   },
   "outputs": [],
   "source": [
    "# Average ACTUAL rating for each item\n",
    "final_ratings_matrix.mean().head()"
   ]
  },
  {
   "cell_type": "code",
   "execution_count": null,
   "metadata": {
    "colab": {
     "base_uri": "https://localhost:8080/",
     "height": 508
    },
    "id": "95QcdJ2W6M06",
    "outputId": "8f395dd0-0e97-426e-b13d-912535489f40"
   },
   "outputs": [],
   "source": [
    "# Predicted ratings \n",
    "preds_df.head()"
   ]
  },
  {
   "cell_type": "code",
   "execution_count": null,
   "metadata": {
    "colab": {
     "base_uri": "https://localhost:8080/"
    },
    "id": "uuyC-GKb6Qxq",
    "outputId": "227bec84-a8ad-4a30-9eb7-a9f3d0711c22"
   },
   "outputs": [],
   "source": [
    "# Average PREDICTED rating for each item\n",
    "preds_df.mean().head()"
   ]
  },
  {
   "cell_type": "code",
   "execution_count": null,
   "metadata": {
    "colab": {
     "base_uri": "https://localhost:8080/",
     "height": 252
    },
    "id": "_OkoWB2s6bT7",
    "outputId": "65f267a7-7452-410f-a754-cae92340a05f"
   },
   "outputs": [],
   "source": [
    "rmse_df = pd.concat([final_ratings_matrix.mean(), preds_df.mean()], axis=1)\n",
    "rmse_df.columns = ['Avg_actual_ratings', 'Avg_predicted_ratings']\n",
    "print(rmse_df.shape)\n",
    "rmse_df['item_index'] = np.arange(0, rmse_df.shape[0], 1)\n",
    "rmse_df.head()"
   ]
  },
  {
   "cell_type": "code",
   "execution_count": null,
   "metadata": {
    "colab": {
     "base_uri": "https://localhost:8080/"
    },
    "id": "PZH8Xw1K6ez9",
    "outputId": "7271e5ca-059c-4edd-ff56-5cb62f45d345"
   },
   "outputs": [],
   "source": [
    "RMSE = round((((rmse_df.Avg_actual_ratings - rmse_df.Avg_predicted_ratings) ** 2).mean() ** 0.5), 5)\n",
    "print('\\nRMSE SVD Model = {} \\n'.format(RMSE))"
   ]
  },
  {
   "cell_type": "code",
   "execution_count": null,
   "metadata": {
    "id": "1H2e7FR66kN3"
   },
   "outputs": [],
   "source": [
    "### Getting top - K ( K = 5) recommendations"
   ]
  },
  {
   "cell_type": "code",
   "execution_count": null,
   "metadata": {
    "colab": {
     "base_uri": "https://localhost:8080/"
    },
    "id": "IHGS78Oz6na0",
    "outputId": "fd8c9e27-164e-4cc1-f638-20be928108f7"
   },
   "outputs": [],
   "source": [
    "# Enter 'userID' and 'num_recommendations' for the user #\n",
    "userID = 9\n",
    "num_recommendations = 5\n",
    "recommend_items(userID, pivot_df, preds_df, num_recommendations)"
   ]
  },
  {
   "cell_type": "code",
   "execution_count": 52,
   "metadata": {
    "id": "FbC25C-tBHXA"
   },
   "outputs": [
    {
     "ename": "NameError",
     "evalue": "name 'model' is not defined",
     "output_type": "error",
     "traceback": [
      "\u001b[1;31m---------------------------------------------------------------------------\u001b[0m",
      "\u001b[1;31mNameError\u001b[0m                                 Traceback (most recent call last)",
      "\u001b[1;32m<ipython-input-52-2a9ed7c90212>\u001b[0m in \u001b[0;36m<module>\u001b[1;34m\u001b[0m\n\u001b[0;32m      3\u001b[0m \u001b[1;33m\u001b[0m\u001b[0m\n\u001b[0;32m      4\u001b[0m \u001b[1;31m# Save the model as a pickle in a file\u001b[0m\u001b[1;33m\u001b[0m\u001b[1;33m\u001b[0m\u001b[1;33m\u001b[0m\u001b[0m\n\u001b[1;32m----> 5\u001b[1;33m \u001b[0mjoblib\u001b[0m\u001b[1;33m.\u001b[0m\u001b[0mdump\u001b[0m\u001b[1;33m(\u001b[0m\u001b[0mmodel\u001b[0m\u001b[1;33m,\u001b[0m \u001b[1;34m'models/rf_model.pkl'\u001b[0m\u001b[1;33m)\u001b[0m\u001b[1;33m\u001b[0m\u001b[1;33m\u001b[0m\u001b[0m\n\u001b[0m",
      "\u001b[1;31mNameError\u001b[0m: name 'model' is not defined"
     ]
    }
   ],
   "source": [
    "# Save the model\n",
    "import joblib \n",
    "\n",
    "# Save the model as a pickle in a file \n",
    "##using this command we save the model\n",
    "##joblib.dump(model, 'models/rf_model.pkl') \n",
    "##that same .pkl we will use"
   ]
  },
  {
   "cell_type": "code",
   "execution_count": null,
   "metadata": {
    "id": "7mFjNCptGtPg"
   },
   "outputs": [],
   "source": []
  },
  {
   "cell_type": "code",
   "execution_count": null,
   "metadata": {
    "id": "PiUqpLqxGxHp"
   },
   "outputs": [],
   "source": []
  }
 ],
 "metadata": {
  "colab": {
   "collapsed_sections": [
    "ujY0JRdeF-Mc",
    "2Tae7P4TQ9xq",
    "K24VBy1y5zCI",
    "k6WnXxnI6RJQ",
    "SWk8IhLH65Gp",
    "DZwyrDGEpZNn",
    "N2tR2kjksjGe",
    "d2PdZyVdu6KN",
    "yhtVPpdnvN2a",
    "_Q0BxQsNp1M9",
    "FWx6m6O51RKA",
    "z4P6PKNU6kcA",
    "73glEjmj6Z-6",
    "ZyVNONZm8or2",
    "2aXRkAjJSe0x",
    "TQ3SA4Nl8cMX",
    "x-sMAiUTDfL-",
    "Qsi5zCcV9PNw",
    "ptwnKitNVvR4",
    "tNLhdnH6a5PK",
    "VtPx2pu3cJtJ",
    "7JmzzijeC10e",
    "I2jDqN2aC5vI",
    "p6bHfJ98C-l_",
    "4zu9b2N-D6Fe",
    "YdOWA13bGD07",
    "alfWt5ZEHfwt"
   ],
   "name": "Sentiment_Analysis_Capstone_v1.ipynb",
   "provenance": []
  },
  "kernelspec": {
   "display_name": "Python 3",
   "language": "python",
   "name": "python3"
  },
  "language_info": {
   "codemirror_mode": {
    "name": "ipython",
    "version": 3
   },
   "file_extension": ".py",
   "mimetype": "text/x-python",
   "name": "python",
   "nbconvert_exporter": "python",
   "pygments_lexer": "ipython3",
   "version": "3.7.4"
  }
 },
 "nbformat": 4,
 "nbformat_minor": 1
}
